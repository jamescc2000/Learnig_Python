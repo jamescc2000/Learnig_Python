{
 "cells": [
  {
   "cell_type": "markdown",
   "metadata": {},
   "source": [
    "# Strings"
   ]
  },
  {
   "cell_type": "markdown",
   "metadata": {},
   "source": [
    "## 1. sWAP cASE"
   ]
  },
  {
   "cell_type": "markdown",
   "metadata": {},
   "source": [
    "You are given a string and your task is to swap cases. In other words, convert all lowercase letters to uppercase letters and vice versa.\n",
    "\n",
    "**For Example:**\n",
    "\n",
    "Www.HackerRank.com → wWW.hACKERrANK.COM\n",
    "\n",
    "Pythonist 2 → pYTHONIST 2  \n",
    "\n",
    "**Function Description**\n",
    "\n",
    "Complete the swap_case function in the editor below.\n",
    "\n",
    "swap_case has the following parameters:\n",
    "\n",
    "- string s: the string to modify\n",
    "\n",
    "**Returns**\n",
    "\n",
    "- string: the modified string\n",
    "\n",
    "**Input Format**\n",
    "\n",
    "A single line containing a string s.\n",
    "\n",
    "**Constraints**\n",
    "\n",
    "0 < len(s) <= 1000\n",
    "\n"
   ]
  },
  {
   "cell_type": "code",
   "execution_count": 1,
   "metadata": {},
   "outputs": [
    {
     "name": "stdout",
     "output_type": "stream",
     "text": [
      "hACKERrANK.COM PRESENTS \"pYTHONIST 2\".\n"
     ]
    }
   ],
   "source": [
    "def swap_case(s):\n",
    "    new_s = ''   \n",
    "    for i in s:\n",
    "        if i.isupper():\n",
    "            new_s =  new_s +  i.lower()\n",
    "        else:\n",
    "            new_s =  new_s +  i.upper()\n",
    "    return new_s\n",
    "\n",
    "if __name__ == '__main__':\n",
    "    s = input()\n",
    "    result = swap_case(s)\n",
    "    print(result)"
   ]
  },
  {
   "cell_type": "markdown",
   "metadata": {},
   "source": [
    "## 2. String Split and Join"
   ]
  },
  {
   "cell_type": "markdown",
   "metadata": {},
   "source": [
    "In Python, a string can be split on a delimiter.\n",
    "\n",
    "**Example:**\n",
    "\n",
    "\\>>> a = \"this is a string\"\n",
    "\n",
    "\\>>> a = a.split(\" \") # a is converted to a list of strings. \n",
    "\n",
    "\\>>> print a\n",
    "\n",
    "['this', 'is', 'a', 'string']\n",
    "\n",
    "Joining a string is simple:\n",
    "\n",
    "\\>>> a = \"-\".join(a)\n",
    "\n",
    "\\>>> print a\n",
    "\n",
    "this-is-a-string \n",
    "\n",
    "**Task**\n",
    "\n",
    "You are given a string. Split the string on a \" \" (space) delimiter and join using a - hyphen.\n",
    "\n",
    "**Function Description**\n",
    "\n",
    "Complete the split_and_join function in the editor below.\n",
    "\n",
    "split_and_join has the following parameters:\n",
    "\n",
    "- string line: a string of space-separated words\n",
    "\n",
    "**Returns**\n",
    "\n",
    "- string: the resulting string\n",
    "\n",
    "**Input Format**\n",
    "\n",
    "The one line contains a string consisting of space separated words."
   ]
  },
  {
   "cell_type": "code",
   "execution_count": 2,
   "metadata": {},
   "outputs": [
    {
     "name": "stdout",
     "output_type": "stream",
     "text": [
      "this-is-a-string\n"
     ]
    }
   ],
   "source": [
    "def split_and_join(line):\n",
    "    line = line.split(\" \")\n",
    "    line = \"-\".join(line)\n",
    "    return line\n",
    "\n",
    "if __name__ == '__main__':\n",
    "    line = input()\n",
    "    result = split_and_join(line)\n",
    "    print(result)\n"
   ]
  },
  {
   "cell_type": "markdown",
   "metadata": {},
   "source": [
    "## 3. What's Your Name?"
   ]
  },
  {
   "cell_type": "markdown",
   "metadata": {},
   "source": [
    "You are given the firstname and lastname of a person on two different lines. Your task is to read them and print the following:\n",
    "\n",
    "Hello firstname lastname! You just delved into python.\n",
    "\n",
    "**Function Description**\n",
    "\n",
    "Complete the print_full_name function in the editor below.\n",
    "\n",
    "print_full_name has the following parameters:\n",
    "\n",
    "- string first: the first name\n",
    "- string last: the last name\n",
    "\n",
    "**Prints**\n",
    "\n",
    "- string: 'Hello firstname lastname! You just delved into python' where firstname and lastname are replaced with first and last.\n",
    "\n",
    "**Input Format**\n",
    "\n",
    "The first line contains the first name, and the second line contains the last name.\n",
    "\n",
    "**Constraints**\n",
    "\n",
    "The length of the first and last names are each ≤ 10."
   ]
  },
  {
   "cell_type": "code",
   "execution_count": 3,
   "metadata": {},
   "outputs": [
    {
     "name": "stdout",
     "output_type": "stream",
     "text": [
      "Hello Ross Taylor! You just delved into python.\n"
     ]
    }
   ],
   "source": [
    "#\n",
    "# Complete the 'print_full_name' function below.\n",
    "#\n",
    "# The function is expected to return a STRING.\n",
    "# The function accepts following parameters:\n",
    "#  1. STRING first\n",
    "#  2. STRING last\n",
    "#\n",
    "\n",
    "def print_full_name(first, last):\n",
    "    texto = 'Hello ' + first + ' ' + last +'! You just delved into python.'\n",
    "    print(texto) \n",
    "    # Write your code here\n",
    "\n",
    "if __name__ == '__main__':\n",
    "    first_name = input()\n",
    "    last_name = input()\n",
    "    print_full_name(first_name, last_name)"
   ]
  },
  {
   "cell_type": "markdown",
   "metadata": {},
   "source": [
    "## 4. Mutations"
   ]
  },
  {
   "cell_type": "markdown",
   "metadata": {},
   "source": [
    "We have seen that lists are mutable (they can be changed), and tuples are immutable (they cannot be changed).\n",
    "\n",
    "Let's try to understand this with an example.\n",
    "\n",
    "You are given an immutable string, and you want to make changes to it.\n",
    "\n",
    "**Example**\n",
    "``` \n",
    ">>> string = \"abracadabra\"\n",
    "``` \n",
    "You can access an index by:\n",
    "``` \n",
    ">>> print string[5]\n",
    "a\n",
    "``` \n",
    "What if you would like to assign a value?\n",
    "``` \n",
    ">>> string[5] = 'k' \n",
    "Traceback (most recent call last):\n",
    "  File \"<stdin>\", line 1, in <module>\n",
    "TypeError: 'str' object does not support item assignment\n",
    "``` \n",
    "How would you approach this?\n",
    "\n",
    "- One solution is to convert the string to a list and then change the value.\n",
    "\n",
    "**Example**\n",
    "``` \n",
    ">>> string = \"abracadabra\"\n",
    ">>> l = list(string)\n",
    ">>> l[5] = 'k'\n",
    ">>> string = ''.join(l)\n",
    ">>> print string\n",
    "abrackdabra\n",
    "``` \n",
    "- Another approach is to slice the string and join it back.\n",
    "\n",
    "**Example**\n",
    "``` \n",
    "\\>>> string = string[:5] + \"k\" + string[6:]\n",
    "\\>>> print string\n",
    "abrackdabra\n",
    "``` \n",
    "**Task**\n",
    "\n",
    "Read a given string, change the character at a given index and then print the modified string.\n",
    "\n",
    "**Function Description**\n",
    "\n",
    "Complete the mutate_string function in the editor below.\n",
    "\n",
    "mutate_string has the following parameters:\n",
    "\n",
    "- string string: the string to change\n",
    "- int position: the index to insert the character at\n",
    "- string character: the character to insert\n",
    "\n",
    "**Returns**\n",
    "\n",
    "- string: the altered string\n",
    "\n",
    "**Input Format**\n",
    "\n",
    "The first line contains a string, string.\n",
    "The next line contains an integer position, the index location and a string character, separated by a space."
   ]
  },
  {
   "cell_type": "code",
   "execution_count": 4,
   "metadata": {},
   "outputs": [
    {
     "name": "stdout",
     "output_type": "stream",
     "text": [
      "abrackdabra\n"
     ]
    }
   ],
   "source": [
    "def mutate_string(string, position, character):\n",
    "    texto = string[:position] + character + string[position+1:]\n",
    "    \n",
    "    return texto\n",
    "\n",
    "if __name__ == '__main__':\n",
    "    s = input()\n",
    "    i, c = input().split()\n",
    "    s_new = mutate_string(s, int(i), c)\n",
    "    print(s_new)"
   ]
  },
  {
   "cell_type": "markdown",
   "metadata": {},
   "source": [
    "## 5. Find a string"
   ]
  },
  {
   "cell_type": "markdown",
   "metadata": {},
   "source": [
    "In this challenge, the user enters a string and a substring. You have to print the number of times that the substring occurs in the given string. String traversal will take place from left to right, not from right to left.\n",
    "\n",
    "NOTE: String letters are case-sensitive.\n",
    "\n",
    "**Input Format**\n",
    "\n",
    "The first line of input contains the original string. The next line contains the substring.\n",
    "\n",
    "**Constraints**\n",
    "\n",
    "1 <= len(string) <= 200\n",
    "\n",
    "Each character in the string is an ascii character.\n",
    "\n",
    "**Output Format**\n",
    "\n",
    "Output the integer number indicating the total number of occurrences of the substring in the original string."
   ]
  },
  {
   "cell_type": "code",
   "execution_count": 5,
   "metadata": {},
   "outputs": [
    {
     "name": "stdout",
     "output_type": "stream",
     "text": [
      "2\n"
     ]
    }
   ],
   "source": [
    "def count_substring(string, sub_string):\n",
    "    contador = 0\n",
    "    tamano = len(string)-len(sub_string) + 1\n",
    "    for i in range(tamano):\n",
    "        idx_ini = i\n",
    "        idx_fin = i + len(sub_string)\n",
    "        if string[idx_ini:idx_fin] == sub_string:\n",
    "            contador += 1\n",
    "    \n",
    "    return contador\n",
    "\n",
    "if __name__ == '__main__':\n",
    "    string = input().strip()\n",
    "    sub_string = input().strip()\n",
    "    \n",
    "    count = count_substring(string, sub_string)\n",
    "    print(count)"
   ]
  },
  {
   "cell_type": "markdown",
   "metadata": {},
   "source": [
    "## 6. String Validators"
   ]
  },
  {
   "cell_type": "markdown",
   "metadata": {},
   "source": [
    "Python has built-in string validation methods for basic data. It can check if a string is composed of alphabetical characters, alphanumeric characters, digits, etc.\n",
    "\n",
    "str.isalnum()\n",
    "\n",
    "This method checks if all the characters of a string are alphanumeric (a-z, A-Z and 0-9).\n",
    "``` \n",
    ">>> print 'ab123'.isalnum()\n",
    "True\n",
    ">>> print 'ab123#'.isalnum()\n",
    "False\n",
    "``` \n",
    "str.isalpha()\n",
    "\n",
    "This method checks if all the characters of a string are alphabetical (a-z and A-Z).\n",
    "``` \n",
    ">>> print 'abcD'.isalpha()\n",
    "True\n",
    ">>> print 'abcd1'.isalpha()\n",
    "False\n",
    "``` \n",
    "str.isdigit()\n",
    "\n",
    "This method checks if all the characters of a string are digits (0-9).\n",
    "``` \n",
    ">>> print '1234'.isdigit()\n",
    "True\n",
    ">>> print '123edsd'.isdigit()\n",
    "False\n",
    "``` \n",
    "str.islower()\n",
    "\n",
    "This method checks if all the characters of a string are lowercase characters (a-z).\n",
    "``` \n",
    ">>> print 'abcd123#'.islower()\n",
    "True\n",
    ">>> print 'Abcd123#'.islower()\n",
    "False\n",
    "``` \n",
    "str.isupper()\n",
    "\n",
    "This method checks if all the characters of a string are uppercase characters (A-Z).\n",
    "``` \n",
    ">>> print 'ABCD123#'.isupper()\n",
    "True\n",
    ">>> print 'Abcd123#'.isupper()\n",
    "False\n",
    "``` \n",
    "**Task**\n",
    "\n",
    "You are given a string S.\n",
    "\n",
    "Your task is to find out if the string S contains: alphanumeric characters, alphabetical characters, digits, lowercase and uppercase characters.\n",
    "\n",
    "**Input Format**\n",
    "\n",
    "A single line containing a string S.\n",
    "\n",
    "**Constraints**\n",
    "\n",
    "0 < len(S) < 1000\n",
    "\n",
    "**Output Format**\n",
    "\n",
    "In the first line, print True if S has any alphanumeric characters. Otherwise, print False.\n",
    "\n",
    "In the second line, print True if S has any alphabetical characters. Otherwise, print False.\n",
    "\n",
    "In the third line, print True if S has any digits. Otherwise, print False.\n",
    "\n",
    "In the fourth line, print True if S has any lowercase characters. Otherwise, print False.\n",
    "\n",
    "In the fifth line, print True if S has any uppercase characters. Otherwise, print False."
   ]
  },
  {
   "cell_type": "code",
   "execution_count": 6,
   "metadata": {},
   "outputs": [
    {
     "name": "stdout",
     "output_type": "stream",
     "text": [
      "True\n",
      "True\n",
      "True\n",
      "True\n",
      "True\n"
     ]
    }
   ],
   "source": [
    "if __name__ == '__main__':\n",
    "    s = input()\n",
    "    validador = False\n",
    "    \n",
    "    for i, caracter in enumerate(s):\n",
    "        if caracter.isalnum():\n",
    "            validador = True\n",
    "    print(validador)\n",
    "    \n",
    "    validador = False\n",
    "    for i, caracter in enumerate(s):\n",
    "        if caracter.isalpha():\n",
    "            validador = True\n",
    "    print(validador)\n",
    "    \n",
    "    validador = False\n",
    "    for i, caracter in enumerate(s):\n",
    "        if caracter.isdigit():\n",
    "            validador = True\n",
    "    print(validador)\n",
    "    \n",
    "    validador = False\n",
    "    for i, caracter in enumerate(s):\n",
    "        if caracter.islower():\n",
    "            validador = True\n",
    "    print(validador)\n",
    "    \n",
    "    validador = False\n",
    "    for i, caracter in enumerate(s):\n",
    "        if caracter.isupper():\n",
    "            validador = True\n",
    "    print(validador)"
   ]
  },
  {
   "cell_type": "markdown",
   "metadata": {},
   "source": [
    "## 7. Text Alignment"
   ]
  },
  {
   "cell_type": "markdown",
   "metadata": {},
   "source": [
    "In Python, a string of text can be aligned left, right and center.\n",
    "\n",
    "**.ljust(width)**\n",
    "\n",
    "This method returns a left aligned string of length width.\n",
    "```\n",
    ">>> width = 20\n",
    ">>> print 'HackerRank'.ljust(width,'-')\n",
    "HackerRank----------  \n",
    "```\n",
    "**.center(width)**\n",
    "\n",
    "This method returns a centered string of length width.\n",
    "```\n",
    ">>> width = 20\n",
    ">>> print 'HackerRank'.center(width,'-')\n",
    "-----HackerRank-----\n",
    "```\n",
    "**.rjust(width)**\n",
    "\n",
    "This method returns a right aligned string of length width.\n",
    "```\n",
    ">>> width = 20\n",
    ">>> print 'HackerRank'.rjust(width,'-')\n",
    "----------HackerRank\n",
    "```\n",
    "**Task**\n",
    "\n",
    "You are given a partial code that is used for generating the HackerRank Logo of variable thickness.\n",
    "Your task is to replace the blank (______) with rjust, ljust or center.\n",
    "\n",
    "**Input Format**\n",
    "\n",
    "A single line containing the thickness value for the logo.\n",
    "\n",
    "**Constraints**\n",
    "\n",
    "The thickness must be an odd number.\n",
    "\n",
    "0 < thickness < 50\n",
    "\n",
    "**Output Format**\n",
    "\n",
    "Output the desired logo."
   ]
  },
  {
   "cell_type": "code",
   "execution_count": 9,
   "metadata": {},
   "outputs": [
    {
     "name": "stdout",
     "output_type": "stream",
     "text": [
      "  H  \n",
      " HHH \n",
      "HHHHH\n",
      "  HHHHHHHHHHHH \n",
      "  HHHHHHHHHHHH \n",
      "  HHHH           HHHH          \n",
      "  HHHH           HHHH          \n",
      "  HHHHHHHHHHHH \n",
      "  HHHH HHHH\n",
      "  HHHH HHHH\n",
      "  HHHH  HHHH \n",
      "  HHHH    HHHH  \n",
      "            HHHHH \n",
      "             HHH  \n",
      "              H   \n"
     ]
    }
   ],
   "source": [
    "# Enter your code here. Read input from STDIN. Print output to STDOUT\n",
    "\n",
    "thickness = int(input()) \n",
    "c= 'H'\n",
    "\n",
    "for i in range(thickness): \n",
    "    print((c*i).rjust(thickness-1)+c+(c*i).ljust(thickness-1))\n",
    "\n",
    "\n",
    "for i in range((thickness+1)//2): \n",
    "    print((c*thickness*4).center(thickness*5))\n",
    "\n",
    "\n",
    "for i in range((thickness+1)//2): \n",
    "    print((c*(thickness+1)).center(thickness*2+1)+(c*(thickness+1)).center(thickness*8))\n",
    "\n",
    "\n",
    "for i in range((thickness)//2): \n",
    "    print((c*thickness*4).center(thickness*5))\n",
    "\n",
    "\n",
    "for i in range((thickness+1)): \n",
    "    print((c*(thickness+1)).center(thickness*2+1)+(c*(thickness+1)).center(thickness*i))\n",
    "\n",
    "\n",
    "for i in range(thickness): \n",
    "    print(((c*(thickness-i-1)).rjust(thickness)+c+(c*(thickness-i-1)).ljust(thickness)).rjust(thickness*6))\n",
    "\n"
   ]
  },
  {
   "cell_type": "markdown",
   "metadata": {},
   "source": [
    "## 8. Text Wrap"
   ]
  },
  {
   "cell_type": "markdown",
   "metadata": {},
   "source": [
    "You are given a string S and width w.\n",
    "Your task is to wrap the string into a paragraph of width w.\n",
    "\n",
    "**Function Description**\n",
    "\n",
    "Complete the wrap function in the editor below.\n",
    "\n",
    "wrap has the following parameters:\n",
    "\n",
    "- string string: a long string\n",
    "- int max_width: the width to wrap to\n",
    "\n",
    "**Returns**\n",
    "\n",
    "- string: a single string with newline characters ('\\n') where the breaks should be\n",
    "\n",
    "**Input Format**\n",
    "\n",
    "The first line contains a string, string.\n",
    "\n",
    "The second line contains the width, maxWith.\n",
    "\n",
    "**Constraints**\n",
    "\n",
    "- 0 < len(strinh) < 1000\n",
    "- 0 < maxWith < len(string)\n"
   ]
  },
  {
   "cell_type": "code",
   "execution_count": 10,
   "metadata": {},
   "outputs": [
    {
     "name": "stdout",
     "output_type": "stream",
     "text": [
      "ABCD\n",
      "EFGH\n",
      "IJKL\n",
      "IMNO\n",
      "QRST\n",
      "UVWX\n",
      "YZ\n"
     ]
    }
   ],
   "source": [
    "import textwrap\n",
    "\n",
    "def wrap(string, max_width):\n",
    "    cantidad = len(string)//max_width + 1\n",
    "    new_string = ''''''\n",
    "    for i in range(cantidad):\n",
    "        idx_ini = i*(max_width)\n",
    "        idx_fin = idx_ini+ max_width\n",
    "        if i != cantidad-1:\n",
    "            new_string = new_string + string[idx_ini:idx_fin] + '\\n'\n",
    "        else:\n",
    "            new_string = new_string + string[idx_ini:idx_fin]\n",
    "        \n",
    "    \n",
    "    return new_string\n",
    "\n",
    "if __name__ == '__main__':\n",
    "    string, max_width = input(), int(input())\n",
    "    result = wrap(string, max_width)\n",
    "    print(result)"
   ]
  },
  {
   "cell_type": "markdown",
   "metadata": {},
   "source": [
    "## 9. Designer Door Mat"
   ]
  },
  {
   "cell_type": "markdown",
   "metadata": {},
   "source": [
    "Mr. Vincent works in a door mat manufacturing company. One day, he designed a new door mat with the following specifications:\n",
    "\n",
    "- Mat size must be N X M. (N is an odd natural number, and M is 3 times N.)\n",
    "- The design should have 'WELCOME' written in the center.\n",
    "- The design pattern should only use |, . and - characters.\n",
    "\n",
    "**Sample Designs**\n",
    "```\n",
    "    Size: 7 x 21 \n",
    "    ---------.|.---------\n",
    "    ------.|..|..|.------\n",
    "    ---.|..|..|..|..|.---\n",
    "    -------WELCOME-------\n",
    "    ---.|..|..|..|..|.---\n",
    "    ------.|..|..|.------\n",
    "    ---------.|.---------\n",
    "    \n",
    "    Size: 11 x 33\n",
    "    ---------------.|.---------------\n",
    "    ------------.|..|..|.------------\n",
    "    ---------.|..|..|..|..|.---------\n",
    "    ------.|..|..|..|..|..|..|.------\n",
    "    ---.|..|..|..|..|..|..|..|..|.---\n",
    "    -------------WELCOME-------------\n",
    "    ---.|..|..|..|..|..|..|..|..|.---\n",
    "    ------.|..|..|..|..|..|..|.------\n",
    "    ---------.|..|..|..|..|.---------\n",
    "    ------------.|..|..|.------------\n",
    "    ---------------.|.---------------\n",
    "```\n",
    "**Input Format**\n",
    "\n",
    "A single line containing the space separated values of N and M.\n",
    "\n",
    "**Constraints**\n",
    "\n",
    "- 5 < N < 101\n",
    "- 15 < M < 303\n",
    "\n",
    "\n",
    "**Output Format**\n",
    "\n",
    "Output the design pattern."
   ]
  },
  {
   "cell_type": "code",
   "execution_count": 11,
   "metadata": {},
   "outputs": [
    {
     "name": "stdout",
     "output_type": "stream",
     "text": [
      "------------.|.------------\n",
      "---------.|..|..|.---------\n",
      "------.|..|..|..|..|.------\n",
      "---.|..|..|..|..|..|..|.---\n",
      "----------WELCOME----------\n",
      "---.|..|..|..|..|..|..|.---\n",
      "------.|..|..|..|..|.------\n",
      "---------.|..|..|.---------\n",
      "------------.|.------------\n"
     ]
    }
   ],
   "source": [
    "# Enter your code here. Read input from STDIN. Print output to STDOUT\n",
    "\n",
    "numbers = str(input())\n",
    "\n",
    "lista= numbers.split(' ')\n",
    "\n",
    "n = int(lista[0])\n",
    "m = int(lista[1])\n",
    "\n",
    "for i in range (1,n//2 + 1):\n",
    "    cant = (m - 3*(2*i-1))//2\n",
    "    print('-'*cant + '.|.'*(2*i-1) + '-'*cant )\n",
    "\n",
    "cant2 = (m - 7)//2  \n",
    "print ('-'*cant2 + 'WELCOME' + '-'*cant2 )\n",
    "\n",
    "for i in range (1,n//2 + 1):\n",
    "    cant = (m - 6*i)//3\n",
    "    print('-'*3*i + '.|.'*cant + '-'*3*i )\n"
   ]
  },
  {
   "cell_type": "markdown",
   "metadata": {},
   "source": [
    "## 10. String Formatting"
   ]
  },
  {
   "cell_type": "markdown",
   "metadata": {},
   "source": [
    "Given an integer, , print the following values for each integer i from 1 to n:\n",
    "\n",
    "1. Decimal\n",
    "2. Octal\n",
    "3. Hexadecimal (capitalized)\n",
    "4. Binary\n",
    "\n",
    "**Function Description**\n",
    "\n",
    "Complete the print_formatted function in the editor below.\n",
    "\n",
    "print_formatted has the following parameters:\n",
    "\n",
    "- int number: the maximum value to print\n",
    "\n",
    "**Prints**\n",
    "\n",
    "The four values must be printed on a single line in the order specified above for each  from 1 to number. Each value should be space-padded to match the width of the binary value of number and the values should be separated by a single space.\n",
    "\n",
    "**Input Format**\n",
    "\n",
    "A single integer denoting .\n",
    "\n",
    "**Constraints**\n",
    "\n",
    "- 1 <= n <= 99"
   ]
  },
  {
   "cell_type": "code",
   "execution_count": 12,
   "metadata": {},
   "outputs": [
    {
     "name": "stdout",
     "output_type": "stream",
     "text": [
      "    1     1     1     1\n",
      "    2     2     2    10\n",
      "    3     3     3    11\n",
      "    4     4     4   100\n",
      "    5     5     5   101\n",
      "    6     6     6   110\n",
      "    7     7     7   111\n",
      "    8    10     8  1000\n",
      "    9    11     9  1001\n",
      "   10    12     A  1010\n",
      "   11    13     B  1011\n",
      "   12    14     C  1100\n",
      "   13    15     D  1101\n",
      "   14    16     E  1110\n",
      "   15    17     F  1111\n",
      "   16    20    10 10000\n",
      "   17    21    11 10001\n"
     ]
    }
   ],
   "source": [
    "def print_formatted(number):\n",
    "    binario = str(format(number, 'b'))\n",
    "    cant_spaces = (len(binario) + 1)\n",
    "    \n",
    "    for i in range(1, number +1):\n",
    "        octal = format(i, 'o')\n",
    "        hexa = format(i, 'X')\n",
    "        binario = format(i, 'b')\n",
    "        space_dec = ' '*(cant_spaces- len(str(i)) - 1)\n",
    "        space_oct = ' '*(cant_spaces- len(str(octal)))\n",
    "        space_hex = ' '*(cant_spaces- len(str(hexa)))\n",
    "        space_bin = ' '*(cant_spaces- len(str(binario)))\n",
    "        \n",
    "        print(space_dec + str(i) + space_oct + str(octal) + space_hex + str(hexa) + space_bin + str(binario))\n",
    "    # your code goes here\n",
    "\n",
    "if __name__ == '__main__':\n",
    "    n = int(input())\n",
    "    print_formatted(n)"
   ]
  },
  {
   "cell_type": "markdown",
   "metadata": {},
   "source": [
    "## 11. Alphabet Rangoli"
   ]
  },
  {
   "cell_type": "markdown",
   "metadata": {},
   "source": [
    "You are given an integer, N. Your task is to print an alphabet rangoli of size N. (Rangoli is a form of Indian folk art based on creation of patterns.)\n",
    "\n",
    "Different sizes of alphabet rangoli are shown below:\n",
    "```\n",
    "#size 3\n",
    "\n",
    "----c----\n",
    "--c-b-c--\n",
    "c-b-a-b-c\n",
    "--c-b-c--\n",
    "----c----\n",
    "\n",
    "#size 5\n",
    "\n",
    "--------e--------\n",
    "------e-d-e------\n",
    "----e-d-c-d-e----\n",
    "--e-d-c-b-c-d-e--\n",
    "e-d-c-b-a-b-c-d-e\n",
    "--e-d-c-b-c-d-e--\n",
    "----e-d-c-d-e----\n",
    "------e-d-e------\n",
    "--------e--------\n",
    "\n",
    "#size 10\n",
    "\n",
    "------------------j------------------\n",
    "----------------j-i-j----------------\n",
    "--------------j-i-h-i-j--------------\n",
    "------------j-i-h-g-h-i-j------------\n",
    "----------j-i-h-g-f-g-h-i-j----------\n",
    "--------j-i-h-g-f-e-f-g-h-i-j--------\n",
    "------j-i-h-g-f-e-d-e-f-g-h-i-j------\n",
    "----j-i-h-g-f-e-d-c-d-e-f-g-h-i-j----\n",
    "--j-i-h-g-f-e-d-c-b-c-d-e-f-g-h-i-j--\n",
    "j-i-h-g-f-e-d-c-b-a-b-c-d-e-f-g-h-i-j\n",
    "--j-i-h-g-f-e-d-c-b-c-d-e-f-g-h-i-j--\n",
    "----j-i-h-g-f-e-d-c-d-e-f-g-h-i-j----\n",
    "------j-i-h-g-f-e-d-e-f-g-h-i-j------\n",
    "--------j-i-h-g-f-e-f-g-h-i-j--------\n",
    "----------j-i-h-g-f-g-h-i-j----------\n",
    "------------j-i-h-g-h-i-j------------\n",
    "--------------j-i-h-i-j--------------\n",
    "----------------j-i-j----------------\n",
    "------------------j------------------\n",
    "```\n",
    "The center of the rangoli has the first alphabet letter a, and the boundary has the Nth alphabet letter (in alphabetical order).\n",
    "\n",
    "**Function Description**\n",
    "\n",
    "Complete the rangoli function in the editor below.\n",
    "\n",
    "rangoli has the following parameters:\n",
    "\n",
    "- int size: the size of the rangoli\n",
    "\n",
    "**Returns**\n",
    "\n",
    "- string: a single string made up of each of the lines of the rangoli separated by a newline character (\\n)\n",
    "\n",
    "**Input Format**\n",
    "\n",
    "Only one line of input containing size, the size of the rangoli.\n",
    "\n",
    "**Constraints**\n",
    "\n",
    "0 < size < 70\n",
    "\n",
    "\n"
   ]
  },
  {
   "cell_type": "code",
   "execution_count": 13,
   "metadata": {},
   "outputs": [
    {
     "name": "stdout",
     "output_type": "stream",
     "text": [
      "------------------j------------------\n",
      "----------------j-i-j----------------\n",
      "--------------j-i-h-i-j--------------\n",
      "------------j-i-h-g-h-i-j------------\n",
      "----------j-i-h-g-f-g-h-i-j----------\n",
      "--------j-i-h-g-f-e-f-g-h-i-j--------\n",
      "------j-i-h-g-f-e-d-e-f-g-h-i-j------\n",
      "----j-i-h-g-f-e-d-c-d-e-f-g-h-i-j----\n",
      "--j-i-h-g-f-e-d-c-b-c-d-e-f-g-h-i-j--\n",
      "j-i-h-g-f-e-d-c-b-a-b-c-d-e-f-g-h-i-j\n",
      "--j-i-h-g-f-e-d-c-b-c-d-e-f-g-h-i-j--\n",
      "----j-i-h-g-f-e-d-c-d-e-f-g-h-i-j----\n",
      "------j-i-h-g-f-e-d-e-f-g-h-i-j------\n",
      "--------j-i-h-g-f-e-f-g-h-i-j--------\n",
      "----------j-i-h-g-f-g-h-i-j----------\n",
      "------------j-i-h-g-h-i-j------------\n",
      "--------------j-i-h-i-j--------------\n",
      "----------------j-i-j----------------\n",
      "------------------j------------------\n"
     ]
    }
   ],
   "source": [
    "def print_rangoli(size):\n",
    "    # your code goes here\n",
    "    lista_letras = []\n",
    "    lista_temp = []\n",
    "    \n",
    "    if size == 1:\n",
    "        print('a')\n",
    "    else:\n",
    "        for i in range(1,size+1):\n",
    "            lista_letras.append(chr(i+96))\n",
    "        \n",
    "        texto = '-'.join(lista_letras)\n",
    "        lista_letras.reverse()\n",
    "        lista_letras.remove('a')\n",
    "        texto2 = '-'.join(lista_letras)\n",
    "        rangoli = texto2 + '-'+ texto\n",
    "        perm_rangoli = rangoli\n",
    "        \n",
    "        for i in range(1,size):\n",
    "            ch = '-'*2*i\n",
    "            rangoli = rangoli.replace('-'+chr(i+96)+'-'+chr(i+97), '')\n",
    "            new_rangoli = ch + rangoli + ch\n",
    "            lista_temp.append(new_rangoli)\n",
    "        \n",
    "        lista_temp.reverse()\n",
    "        \n",
    "        for i in range(len(lista_temp)):\n",
    "            print(lista_temp[i])\n",
    "            \n",
    "        print(perm_rangoli)\n",
    "        lista_temp.reverse()\n",
    "        \n",
    "        for i in range(len(lista_temp)):\n",
    "            print(lista_temp[i])\n",
    "        \n",
    "\n",
    "\n",
    "if __name__ == '__main__':\n",
    "    n = int(input())\n",
    "    print_rangoli(n)"
   ]
  },
  {
   "cell_type": "markdown",
   "metadata": {},
   "source": [
    "## 12. Capitalize!"
   ]
  },
  {
   "cell_type": "markdown",
   "metadata": {},
   "source": [
    "You are asked to ensure that the first and last names of people begin with a capital letter in their passports. For example, alison heck should be capitalised correctly as Alison Heck.\n",
    "```\n",
    "alison heck -> Alison Heck\n",
    "```\n",
    "\n",
    "Given a full name, your task is to capitalize the name appropriately.\n",
    "\n",
    "**Input Format**\n",
    "\n",
    "A single line of input containing the full name, S.\n",
    "\n",
    "**Constraints**\n",
    "\n",
    "- 0 < len(S) < 100\n",
    "- The string consists of alphanumeric characters and spaces.\n",
    "**Note:** in a word only the first character is capitalized. Example 12abc when capitalized remains 12abc.\n",
    "\n",
    "**Output Format**\n",
    "\n",
    "Print the capitalized string, S."
   ]
  },
  {
   "cell_type": "code",
   "execution_count": 16,
   "metadata": {},
   "outputs": [
    {
     "name": "stdout",
     "output_type": "stream",
     "text": [
      "Chris Alan \n"
     ]
    }
   ],
   "source": [
    "def solve(s):\n",
    "    lista = s.split(' ')\n",
    "    new_string = ''\n",
    "    \n",
    "    for i in lista:\n",
    "        new_string = new_string + i.capitalize() + ' '\n",
    "    return new_string\n",
    "\n",
    "if __name__ == '__main__':\n",
    "    s = input()\n",
    "\n",
    "    result = solve(s)\n",
    "    \n",
    "    print(result)\n"
   ]
  },
  {
   "cell_type": "markdown",
   "metadata": {},
   "source": [
    "## 13. The Minion Game"
   ]
  },
  {
   "attachments": {
    "image.png": {
     "image/png": "[encoded data removed]"
    }
   },
   "cell_type": "markdown",
   "metadata": {},
   "source": [
    "Kevin and Stuart want to play the **'The Minion Game'**.\n",
    "\n",
    "**Game Rules**\n",
    "\n",
    "Both players are given the same string, S.\n",
    "\n",
    "Both players have to make substrings using the letters of the string S.\n",
    "\n",
    "Stuart has to make words starting with consonants.\n",
    "\n",
    "Kevin has to make words starting with vowels.\n",
    "\n",
    "The game ends when both players have made all possible substrings.\n",
    "\n",
    "**Scoring**\n",
    "\n",
    "A player gets +1 point for each occurrence of the substring in the string S.\n",
    "\n",
    "**For Example:**\n",
    "\n",
    "String S = BANANA\n",
    "\n",
    "Kevin's vowel beginning word = ANA\n",
    "\n",
    "Here, ANA occurs twice in BANANA. Hence, Kevin will get 2 Points.\n",
    "\n",
    "\n",
    "For better understanding, see the image below:\n",
    "\n",
    "![image.png](attachment:image.png)\n",
    "\n",
    "Your task is to determine the winner of the game and their score.\n",
    "\n",
    "**Function Description**\n",
    "\n",
    "Complete the minion_game in the editor below.\n",
    "\n",
    "minion_game has the following parameters:\n",
    "\n",
    "- string string: the string to analyze\n",
    "\n",
    "**Prints**\n",
    "\n",
    "- string: the winner's name and score, separated by a space on one line, or Draw if there is no winner\n",
    "\n",
    "**Input Format**\n",
    "\n",
    "A single line of input containing the string S.\n",
    "\n",
    "**Note:** The string S will contain only uppercase letters: [A-Z].\n",
    "\n",
    "**Constraints**\n",
    "\n",
    "0 < len(S) <= 10^6\n",
    "\n",
    "\n",
    "**Note:** Vowels are only defined as AEIOU. In this problem, Y is not considered a vowel."
   ]
  },
  {
   "cell_type": "code",
   "execution_count": 17,
   "metadata": {},
   "outputs": [
    {
     "name": "stdout",
     "output_type": "stream",
     "text": [
      "Stuart 12\n"
     ]
    }
   ],
   "source": [
    "def contador(palabra, subcadena):\n",
    "    contador = 0\n",
    "    for i in range(len(palabra) - len(subcadena) + 1):\n",
    "        if palabra[i:i+len(subcadena)] == subcadena:\n",
    "            contador += 1\n",
    "    return contador\n",
    "\n",
    "def minion_game(string):\n",
    "    # your code goes here\n",
    "    cont_Stuart = 0\n",
    "    cont_Kevin = 0\n",
    "    n = len(string)\n",
    "    \n",
    "    for i in range(n):\n",
    "        if string[i] not in ('A', 'E', 'I', 'O', 'U'):\n",
    "            cont_Stuart += n - i\n",
    "        else:\n",
    "            cont_Kevin += n - i\n",
    "\n",
    "    if cont_Stuart > cont_Kevin:\n",
    "        print('Stuart', cont_Stuart)\n",
    "    elif cont_Stuart == cont_Kevin:\n",
    "        print('Draw')\n",
    "    else:\n",
    "        print('Kevin', cont_Kevin)\n",
    "\n",
    "\n",
    "if __name__ == '__main__':\n",
    "    s = input()\n",
    "    minion_game(s)"
   ]
  },
  {
   "cell_type": "markdown",
   "metadata": {},
   "source": [
    "## 14. Merge the Tools!"
   ]
  },
  {
   "cell_type": "markdown",
   "metadata": {},
   "source": [
    "Consider the following:\n",
    "\n",
    "- A string, s, of length  where s = c0c1...cn-1.\n",
    "- An integer, k, where  is a factor of n.\n",
    "We can split s into n/k substrings where each subtring, ti, consists of a contiguous block of k characters in s. Then, use each ti to create string ui such that:\n",
    "\n",
    "- The characters in ui are a subsequence of the characters in ti.\n",
    "- Any repeat occurrence of a character is removed from the string such that each character in ui occurs exactly once. In other words, if the character at some index j in ti occurs at a previous index < j in ti, then do not include the character in string ui.\n",
    "Given s and k, print n/k lines where each line  denotes string .\n",
    "\n",
    "**Example**\n",
    "\n",
    "s = 'AAABCADDE'\n",
    "\n",
    "k = 3\n",
    "\n",
    "There are three substrings of length 3 to consider: 'AAA', 'BCA' and 'DDE'. The first substring is all 'A' characters, so ui = 'A'. The second substring has all distinct characters, so u2 = 'BCA'. The third substring has 2 different characters, so u3 = 'DE'. Note that a subsequence maintains the original order of characters encountered. The order of characters in each subsequence shown is important.\n",
    "\n",
    "**Function Description**\n",
    "\n",
    "Complete the merge_the_tools function in the editor below.\n",
    "\n",
    "merge_the_tools has the following parameters:\n",
    "\n",
    "- string s: the string to analyze\n",
    "- int k: the size of substrings to analyze\n",
    "\n",
    "**Prints**\n",
    "\n",
    "Print each subsequence on a new line. There will be n/k of them. No return value is expected.\n",
    "\n",
    "**Input Format**\n",
    "\n",
    "The first line contains a single string, s.\n",
    "The second line contains an integer, k, the length of each substring.\n",
    "\n",
    "**Constraints**\n",
    "- 1 <= n <= 10^4, where n is the length of s \n",
    "- 1 <= k <= n\n",
    "- It is guaranteed that n is a multiple of k."
   ]
  },
  {
   "cell_type": "code",
   "execution_count": 18,
   "metadata": {},
   "outputs": [
    {
     "name": "stdout",
     "output_type": "stream",
     "text": [
      "AB\n",
      "CA\n",
      "AD\n"
     ]
    }
   ],
   "source": [
    "def merge_the_tools(string, k):\n",
    "    # your code goes here\n",
    "    n = len(string)\n",
    "    final_s = ''\n",
    "    \n",
    "    for i in range(n//k):\n",
    "        sub_string = string[i*k:i*k+k]\n",
    "        for j in range(len(sub_string)):\n",
    "            if sub_string[j] not in final_s:\n",
    "                final_s = final_s + sub_string[j]\n",
    "        print(final_s)\n",
    "        final_s = ''\n",
    "        \n",
    "\n",
    "if __name__ == '__main__':\n",
    "    string, k = input(), int(input())\n",
    "    merge_the_tools(string, k)"
   ]
  }
 ],
 "metadata": {
  "kernelspec": {
   "display_name": "Python 3",
   "language": "python",
   "name": "python3"
  },
  "language_info": {
   "codemirror_mode": {
    "name": "ipython",
    "version": 3
   },
   "file_extension": ".py",
   "mimetype": "text/x-python",
   "name": "python",
   "nbconvert_exporter": "python",
   "pygments_lexer": "ipython3",
   "version": "3.12.1"
  }
 },
 "nbformat": 4,
 "nbformat_minor": 2
}
