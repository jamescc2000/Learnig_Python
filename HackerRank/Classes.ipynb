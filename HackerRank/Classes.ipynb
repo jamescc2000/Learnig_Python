{
 "cells": [
  {
   "cell_type": "markdown",
   "metadata": {},
   "source": [
    "# Classes"
   ]
  },
  {
   "cell_type": "markdown",
   "metadata": {},
   "source": [
    "## Class 2 - Find the Torsional Angle"
   ]
  },
  {
   "attachments": {
    "image.png": {
     "image/png": "[encoded data removed]"
    }
   },
   "cell_type": "markdown",
   "metadata": {},
   "source": [
    "You are given four points A, B, C and D in a 3-dimensional Cartesian coordinate system. You are required to print the angle between the plane made by the points A, B, C and B, C, D in degrees(not radians). Let the angle be PHI.\n",
    "\n",
    "![image.png](attachment:image.png)\n",
    "\n",
    "Here, X.Y means the dot product of X and Y, and ABxBC means the cross product of vectors AB and BC. Also, AB = B -A.\n",
    "\n",
    "**Input Format**\n",
    "\n",
    "One line of input containing the space separated floating number values of the X, Y and Z coordinates of a point.\n",
    "\n",
    "**Output Format**\n",
    "\n",
    "Output the angle correct up to two decimal places."
   ]
  },
  {
   "cell_type": "code",
   "execution_count": 1,
   "metadata": {},
   "outputs": [
    {
     "name": "stdout",
     "output_type": "stream",
     "text": [
      "8.19\n"
     ]
    }
   ],
   "source": [
    "import math\n",
    "\n",
    "class Points(object):\n",
    "    def __init__(self, x, y, z):\n",
    "        self.x = x\n",
    "        self.y = y\n",
    "        self.z = z\n",
    "\n",
    "    def __sub__(self, no):\n",
    "        if isinstance(no, Points):\n",
    "            return Points(self.x - no.x, self.y - no.y, self.z - no.z)\n",
    "        return NotImplemented\n",
    "\n",
    "    def dot(self, no):\n",
    "        return self.x*no.x + self.y*no.y + self.z*no.z\n",
    "\n",
    "    def cross(self, no):\n",
    "        return Points(self.y*no.z - self.z*no.y, (self.z*no.x - self.x*no.z), self.x*no.y - self.y*no.x)\n",
    "        \n",
    "    def absolute(self):\n",
    "        return pow((self.x ** 2 + self.y ** 2 + self.z ** 2), 0.5)\n",
    "\n",
    "if __name__ == '__main__':\n",
    "    points = list()\n",
    "    for i in range(4):\n",
    "        a = list(map(float, input().split()))\n",
    "        points.append(a)\n",
    "\n",
    "    a, b, c, d = Points(*points[0]), Points(*points[1]), Points(*points[2]), Points(*points[3])\n",
    "    x = (b - a).cross(c - b)\n",
    "    y = (c - b).cross(d - c)\n",
    "    angle = math.acos(x.dot(y) / (x.absolute() * y.absolute()))\n",
    "\n",
    "    print(\"%.2f\" % math.degrees(angle))"
   ]
  },
  {
   "cell_type": "markdown",
   "metadata": {},
   "source": [
    "## 2. Classes: Dealing with Complex Numbers"
   ]
  },
  {
   "cell_type": "markdown",
   "metadata": {},
   "source": [
    "For this challenge, you are given two complex numbers, and you have to print the result of their addition, subtraction, multiplication, division and modulus operations.\n",
    "\n",
    "The real and imaginary precision part should be correct up to two decimal places.\n",
    "\n",
    "**Input Format**\n",
    "\n",
    "One line of input: The real and imaginary part of a number separated by a space.\n",
    "\n",
    "**Output Format**\n",
    "\n",
    "For two complex numbers C and D, the output should be in the following sequence on separate lines:\n",
    "\n",
    "- C +D\n",
    "- C -D\n",
    "- C * D\n",
    "- C / D\n",
    "- mod(C)\n",
    "- mod(D)\n",
    "\n",
    "For complex numbers with non-zero real(A) and complex part(B), the output should be in the following format:\n",
    "\n",
    "```\n",
    "A + Bi\n",
    "```\n",
    "\n",
    "Replace the plus symbol (+) with a minus symbol (-) when B <  0.\n",
    "\n",
    "For complex numbers with a zero complex part i.e. real numbers, the output should be:\n",
    "\n",
    "```\n",
    "A + 0.00i\n",
    "```\n",
    "\n",
    "For complex numbers where the real part is zero and the complex part is non-zero, the output should be:\n",
    "\n",
    "```\n",
    "0.00 + Bi\n",
    "```"
   ]
  },
  {
   "cell_type": "code",
   "execution_count": 4,
   "metadata": {},
   "outputs": [
    {
     "name": "stdout",
     "output_type": "stream",
     "text": [
      "7.00+7.00i\n",
      "-3.00-5.00i\n",
      "4.00+17.00i\n",
      "0.26+0.11i\n",
      "2.24+0.00i\n",
      "7.81+0.00i\n"
     ]
    }
   ],
   "source": [
    "import math\n",
    "\n",
    "class Complex(object):\n",
    "    def __init__(self, real, imaginary):\n",
    "        self.real = real\n",
    "        self.imaginary = imaginary\n",
    "        \n",
    "    def __add__(self, no):\n",
    "        return Complex(self.real + no.real, self.imaginary + no.imaginary)\n",
    "        \n",
    "    def __sub__(self, no):\n",
    "        return Complex(self.real - no.real, self.imaginary - no.imaginary)\n",
    "    \n",
    "    def __mul__(self, no):\n",
    "        real_part = round(self.real*no.real - self.imaginary*no.imaginary,2)\n",
    "        imaginary_part = round(self.real*no.imaginary + self.imaginary*no.real,2)\n",
    "        return Complex(real_part, imaginary_part)\n",
    "\n",
    "    def __truediv__(self, no):\n",
    "        real_part = round( (self.real*no.real + self.imaginary*no.imaginary)/(no.real**2 + no.imaginary**2),2)\n",
    "        imaginary_part = round( (-self.real*no.imaginary + self.imaginary*no.real)/(no.real**2 + no.imaginary**2),2)\n",
    "        return Complex(real_part, imaginary_part)\n",
    "        \n",
    "    def mod(self):\n",
    "        return Complex(round(((self.real)**2 + (self.imaginary)**2)**0.5,2), 0.00)\n",
    "\n",
    "    def __str__(self):\n",
    "        if self.imaginary == 0:\n",
    "            result = \"%.2f+0.00i\" % (self.real)\n",
    "        elif self.real == 0:\n",
    "            if self.imaginary >= 0:\n",
    "                result = \"0.00+%.2fi\" % (self.imaginary)\n",
    "            else:\n",
    "                result = \"0.00-%.2fi\" % (abs(self.imaginary))\n",
    "        elif self.imaginary > 0:\n",
    "            result = \"%.2f+%.2fi\" % (self.real, self.imaginary)\n",
    "        else:\n",
    "            result = \"%.2f-%.2fi\" % (self.real, abs(self.imaginary))\n",
    "        return result\n",
    "\n",
    "if __name__ == '__main__':\n",
    "    c = map(float, input().split())\n",
    "    d = map(float, input().split())\n",
    "    x = Complex(*c)\n",
    "    y = Complex(*d)\n",
    "    print(*map(str, [x+y, x-y, x*y, x/y, x.mod(), y.mod()]), sep='\\n')"
   ]
  }
 ],
 "metadata": {
  "kernelspec": {
   "display_name": "Python 3",
   "language": "python",
   "name": "python3"
  },
  "language_info": {
   "codemirror_mode": {
    "name": "ipython",
    "version": 3
   },
   "file_extension": ".py",
   "mimetype": "text/x-python",
   "name": "python",
   "nbconvert_exporter": "python",
   "pygments_lexer": "ipython3",
   "version": "3.12.1"
  }
 },
 "nbformat": 4,
 "nbformat_minor": 2
}
