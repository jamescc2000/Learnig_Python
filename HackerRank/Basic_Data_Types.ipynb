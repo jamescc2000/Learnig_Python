{
 "cells": [
  {
   "cell_type": "markdown",
   "metadata": {},
   "source": [
    "# Basic Data Types"
   ]
  },
  {
   "cell_type": "markdown",
   "metadata": {
    "vscode": {
     "languageId": "plaintext"
    }
   },
   "source": [
    "## 1. List Comprehensions"
   ]
  },
  {
   "cell_type": "markdown",
   "metadata": {},
   "source": [
    "Let's learn about list comprehensions! You are given three integers x, y and z representing the dimensions of a cuboid along with an integer n. Print a list of all possible coordinates given by (i,j,k) on a 3D grid where the sum of i+j+k is not equal to n. Here, 0 <= i <= x ; 0 <= j <= y ; 0 <= k <= z . Please use list comprehensions rather than multiple loops, as a learning exercise.\n",
    "\n",
    "**Example**\n",
    "\n",
    "x = 1\n",
    "\n",
    "y = 1\n",
    "\n",
    "z = 2\n",
    "\n",
    "n = 3\n",
    "\n",
    "All permutations of [i,j,k] are:\n",
    "\n",
    "[[0,0,0],[0,0,1],[0,0,2],[0,1,0],[0,1,1],[0,1,2],[1,0,0],[1,0,1],[1,0,2],[1,1,0],[1,1,1]].\n",
    "\n",
    "Print an array of the elements that do not sum to n = 3.\n",
    "\n",
    "[[0,0,0],[0,0,1],[0,0,2],[0,1,0],[0,1,1],[1,0,0],[1,0,1],[1,1,0],[1,1,2]]\n",
    "\n",
    "**Input Format**\n",
    "\n",
    "Four integers x,y,z and n, each on a separate line.\n",
    "\n",
    "**Constraints**\n",
    "\n",
    "Print the list in lexicographic increasing order."
   ]
  },
  {
   "cell_type": "code",
   "execution_count": 2,
   "metadata": {},
   "outputs": [
    {
     "name": "stdout",
     "output_type": "stream",
     "text": [
      "[[0, 0, 0], [0, 0, 1], [0, 0, 2], [0, 1, 0], [0, 1, 1], [1, 0, 0], [1, 0, 1], [1, 1, 0], [1, 1, 2]]\n"
     ]
    }
   ],
   "source": [
    "if __name__ == '__main__':\n",
    "    x = int(input())\n",
    "    y = int(input())\n",
    "    z = int(input())\n",
    "    n = int(input())\n",
    "    \n",
    "lista = []\n",
    "   \n",
    "for i in range(x+1):\n",
    "    for j in range(y+1):\n",
    "        for k in range(z+1):\n",
    "            if i+j+k != n:\n",
    "                lista.append([i,j,k])\n",
    "            \n",
    "print(lista)\n"
   ]
  },
  {
   "cell_type": "markdown",
   "metadata": {},
   "source": [
    "## 2. Find the Runner-Up Score!"
   ]
  },
  {
   "cell_type": "markdown",
   "metadata": {},
   "source": [
    "Given the participants' score sheet for your University Sports Day, you are required to find the runner-up score. You are given n scores. Store them in a list and find the score of the runner-up.\n",
    "\n",
    "**Input Format**\n",
    "\n",
    "The first line contains . The second line contains an array A[]  of n integers each separated by a space.\n",
    "\n",
    "**Constraints**\n",
    "\n",
    "- 2 <= n <= 10\n",
    "- -100 <= A[i] <= 100\n",
    "\n",
    "**Output Format**\n",
    "\n",
    "Print the runner-up score."
   ]
  },
  {
   "cell_type": "code",
   "execution_count": 3,
   "metadata": {},
   "outputs": [
    {
     "name": "stdout",
     "output_type": "stream",
     "text": [
      "5\n"
     ]
    }
   ],
   "source": [
    "if __name__ == '__main__':\n",
    "    n = int(input())\n",
    "    arr = map(int, input().split())\n",
    "    \n",
    "lista = []\n",
    "runner_up = -101\n",
    "\n",
    "for i in arr:\n",
    "    lista.append(i)\n",
    "\n",
    "\n",
    "for score in lista:\n",
    "    if score != max(lista) and score > runner_up  :\n",
    "        runner_up = score\n",
    "        \n",
    "\n",
    "print(runner_up)\n"
   ]
  },
  {
   "cell_type": "markdown",
   "metadata": {},
   "source": [
    "## 3. Nested Lists"
   ]
  },
  {
   "cell_type": "markdown",
   "metadata": {},
   "source": [
    "Given the names and grades for each student in a class of N students, store them in a nested list and print the name(s) of any student(s) having the second lowest grade.\n",
    "\n",
    "**Note**: If there are multiple students with the second lowest grade, order their names alphabetically and print each name on a new line.\n",
    "\n",
    "**Example**\n",
    "\n",
    "records = [[\"chi\",20.0],[\"beta\",50.0],[\"alpha\",50.0]]\n",
    "\n",
    "The ordered list of scores is [20.0,50.0], so the second lowest score is 50.0. There are two students with that score: [\"beta\",\"alpha\"]. Ordered alphabetically, the names are printed as:\n",
    "\n",
    "alpha\n",
    "\n",
    "beta\n",
    "\n",
    "**Input Format**\n",
    "\n",
    "The first line contains an integer, , the number of students.\n",
    "\n",
    "The 2N subsequent lines describe each student over 2 lines.\n",
    "\n",
    "- The first line contains a student's name.\n",
    "- The second line contains their grade.\n",
    "\n",
    "**Constraints**\n",
    "\n",
    "- 2 <=  N <= 5\n",
    "- There will always be one or more students having the second lowest grade.\n",
    "\n",
    "**Output Format**\n",
    "\n",
    "Print the name(s) of any student(s) having the second lowest grade in. If there are multiple students, order their names alphabetically and print each one on a new line."
   ]
  },
  {
   "cell_type": "code",
   "execution_count": 4,
   "metadata": {},
   "outputs": [
    {
     "name": "stdout",
     "output_type": "stream",
     "text": [
      "Berry\n",
      "Harry\n"
     ]
    }
   ],
   "source": [
    "if __name__ == '__main__':\n",
    "    lista = []\n",
    "    lista_score = []\n",
    "    for _ in range(int(input())):\n",
    "        name = input()\n",
    "        score = float(input())\n",
    "        lista.append([name, score])\n",
    "        lista_score.append(score)\n",
    "        \n",
    "score = max(lista_score)\n",
    "       \n",
    "for s in lista_score:\n",
    "    if s != min(lista_score) and s < score:\n",
    "        score = s\n",
    "        \n",
    "lista.sort()\n",
    "\n",
    "for i in range(len(lista_score)):\n",
    "    if lista[i][1] == score:\n",
    "        print(lista[i][0])\n",
    "\n"
   ]
  },
  {
   "cell_type": "markdown",
   "metadata": {},
   "source": [
    "## 4. Finding the percentage"
   ]
  },
  {
   "cell_type": "markdown",
   "metadata": {},
   "source": [
    "The provided code stub will read in a dictionary containing key/value pairs of name:[marks] for a list of students. Print the average of the marks array for the student name provided, showing 2 places after the decimal.\n",
    "\n",
    "**Example**\n",
    "\n",
    "marks key: value pairs are\n",
    "\n",
    "'alpha': [20,30,40]\n",
    "\n",
    "'beta': [30,50,70]\n",
    "\n",
    "query_name = 'beta'\n",
    "\n",
    "\n",
    "The query_name is 'beta'. beta's average score is (30 + 50 + 70) / 3 = 50.0.\n",
    "\n",
    "**Input Format**\n",
    "\n",
    "The first line contains the integer n, the number of students' records. The next n lines contain the names and marks obtained by a student, each value separated by a space. The final line contains query_name, the name of a student to query.\n",
    "\n",
    "**Constraints**\n",
    "\n",
    "- 2 <= n <= 10\n",
    "- 0 <= marks[i] <= 100\n",
    "- length of marks arrays = 3\n",
    "\n",
    "\n",
    "**Output Format**\n",
    "\n",
    "Print one line: The average of the marks obtained by the particular student correct to 2 decimal places."
   ]
  },
  {
   "cell_type": "code",
   "execution_count": 5,
   "metadata": {},
   "outputs": [
    {
     "name": "stdout",
     "output_type": "stream",
     "text": [
      "56.00\n"
     ]
    }
   ],
   "source": [
    "if __name__ == '__main__':\n",
    "    n = int(input())\n",
    "    student_marks = {}\n",
    "    for _ in range(n):\n",
    "        name, *line = input().split()\n",
    "        scores = list(map(float, line))\n",
    "        student_marks[name] = scores\n",
    "    query_name = input()\n",
    "    \n",
    "prom = sum(student_marks[query_name]) / len(student_marks[query_name])\n",
    "  \n",
    "print(\"{:.2f}\".format(prom))\n"
   ]
  },
  {
   "cell_type": "markdown",
   "metadata": {},
   "source": [
    "## 5. Lists"
   ]
  },
  {
   "cell_type": "markdown",
   "metadata": {},
   "source": [
    "Consider a list (list = []). You can perform the following commands:\n",
    "\n",
    "1. insert i e: Insert integer e at position i.\n",
    "2. print: Print the list.\n",
    "3. remove e: Delete the first occurrence of integer e.\n",
    "4. append e: Insert integer e at the end of the list.\n",
    "5. sort: Sort the list.\n",
    "6. pop: Pop the last element from the list.\n",
    "7. reverse: Reverse the list.\n",
    "\n",
    "Initialize your list and read in the value of n followed by n lines of commands where each command will be of the 7 types listed above. Iterate through each command in order and perform the corresponding operation on your list.\n",
    "\n",
    "**Example**\n",
    "\n",
    "N = 4\n",
    "\n",
    "append 1\n",
    "\n",
    "append 2\n",
    "\n",
    "insert 3 1\n",
    "\n",
    "print\n",
    "\n",
    "\n",
    "- append 1: Append 1 to the list, arr = [1].\n",
    "- append 2: Append 2 to the list, arr = [1,2].\n",
    "- insert 3 1: Insert 3 at index 1, arr = [1,3,2] .\n",
    "- print: Print the array.\n",
    "\n",
    "Output:\n",
    "\n",
    "[1, 3, 2]\n",
    "\n",
    "\n",
    "**Input Format**\n",
    "\n",
    "The first line contains an integer, n, denoting the number of commands.\n",
    "Each line i of the n subsequent lines contains one of the commands described above.\n",
    "\n",
    "**Constraints**\n",
    "\n",
    "The elements added to the list must be integers.\n",
    "\n",
    "**Output Format**\n",
    "\n",
    "For each command of type print, print the list on a new line."
   ]
  },
  {
   "cell_type": "code",
   "execution_count": 6,
   "metadata": {},
   "outputs": [
    {
     "name": "stdout",
     "output_type": "stream",
     "text": [
      "[6, 5, 10]\n",
      "[1, 5, 9, 10]\n",
      "[9, 5, 1]\n"
     ]
    }
   ],
   "source": [
    "if __name__ == '__main__':\n",
    "    N = int(input())\n",
    "\n",
    "lista = []\n",
    "\n",
    "for i in range(N):\n",
    "    Comando = str(input())\n",
    "    lista_comandos = []\n",
    "    if Comando.find('insert') != -1:\n",
    "        lista_comandos = Comando.split(' ')\n",
    "        lista.insert(int(lista_comandos[1]),int(lista_comandos[2]))\n",
    "    elif Comando.find('print') != -1:\n",
    "        print(lista)\n",
    "    elif Comando.find('remove') != -1:\n",
    "        lista_comandos = Comando.split(' ')\n",
    "        lista.remove(int(lista_comandos[1]))\n",
    "    elif Comando.find('append') != -1:\n",
    "        lista_comandos = Comando.split(' ')\n",
    "        lista.append(int(lista_comandos[1]))\n",
    "    elif Comando.find('sort') != -1:\n",
    "        lista.sort()\n",
    "    elif Comando.find('pop') != -1:\n",
    "        lista.pop(-1)\n",
    "    elif Comando.find('reverse') != -1:\n",
    "        lista.reverse()\n"
   ]
  },
  {
   "cell_type": "markdown",
   "metadata": {},
   "source": [
    "## 6. Tuples"
   ]
  },
  {
   "cell_type": "markdown",
   "metadata": {},
   "source": [
    "**Task**\n",
    "Given an integer, n, and n space-separated integers as input, create a tuple, t, of those n integers. Then compute and print the result of hash(t).\n",
    "\n",
    "**Note**: hash() is one of the functions in the __builtins__ module, so it need not be imported.\n",
    "\n",
    "**Input Format**\n",
    "\n",
    "The first line contains an integer, n, denoting the number of elements in the tuple.\n",
    "\n",
    "The second line contains n space-separated integers describing the elements in tuple t.\n",
    "\n",
    "**Output Format**\n",
    "\n",
    "Print the result of hash(t)."
   ]
  },
  {
   "cell_type": "code",
   "execution_count": 8,
   "metadata": {},
   "outputs": [
    {
     "name": "stdout",
     "output_type": "stream",
     "text": [
      "-3550055125485641917\n"
     ]
    }
   ],
   "source": [
    "if __name__ == '__main__':\n",
    "    n = int(input())\n",
    "    integer_list = map(int, input().split())\n",
    "    \n",
    "tupla = tuple(integer_list)\n",
    "\n",
    "\n",
    "print(hash(tupla))\n"
   ]
  }
 ],
 "metadata": {
  "kernelspec": {
   "display_name": "Python 3",
   "language": "python",
   "name": "python3"
  },
  "language_info": {
   "codemirror_mode": {
    "name": "ipython",
    "version": 3
   },
   "file_extension": ".py",
   "mimetype": "text/x-python",
   "name": "python",
   "nbconvert_exporter": "python",
   "pygments_lexer": "ipython3",
   "version": "3.12.1"
  }
 },
 "nbformat": 4,
 "nbformat_minor": 2
}
