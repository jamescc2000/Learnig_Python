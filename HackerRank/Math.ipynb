{
 "cells": [
  {
   "cell_type": "markdown",
   "metadata": {},
   "source": [
    "# MATH"
   ]
  },
  {
   "cell_type": "markdown",
   "metadata": {},
   "source": [
    "## 1. Polar Coordinates"
   ]
  },
  {
   "attachments": {
    "image-2.png": {
     "image/png": "[encoded data removed]"
    },
    "image.png": {
     "image/png": "[encoded data removed]"
    }
   },
   "cell_type": "markdown",
   "metadata": {},
   "source": [
    "**Polar coordinates** are an alternative way of representing Cartesian coordinates or Complex Numbers.\n",
    "\n",
    "A complex number z.\n",
    "\n",
    "                        z = x + yj\n",
    "\n",
    "is completely determined by its real part x and imaginary part y.\n",
    "\n",
    "Here, j is the imaginary unit.\n",
    "\n",
    "A polar coordinate (r, φ)\n",
    "\n",
    "![image.png](attachment:image.png)\n",
    "\n",
    "is completely determined by modulus r and phase angle φ.\n",
    "\n",
    "If we convert complex number  to its polar coordinate, we find:\n",
    "\n",
    "r: Distance from  to origin, i.e. ![image-2.png](attachment:image-2.png), \n",
    "\n",
    "φ: Counter clockwise angle measured from the positive x-axis to the line segment that joins z to the origin.\n",
    "\n",
    "Python's cmath module provides access to the mathematical functions for complex numbers.\n",
    "\n",
    "**cmath.phase**\n",
    "\n",
    "This tool returns the phase of complex number z (also known as the argument of z).\n",
    "```\n",
    ">>> phase(complex(-1.0, 0.0))\n",
    "3.1415926535897931\n",
    "```\n",
    "**abs**\n",
    "\n",
    "This tool returns the modulus (absolute value) of complex number z.\n",
    "```\n",
    ">>> abs(complex(-1.0, 0.0))\n",
    "1.0\n",
    "```\n",
    "**Task**\n",
    "\n",
    "You are given a complex z. Your task is to convert it to polar coordinates.\n",
    "\n",
    "**Input Format**\n",
    "\n",
    "A single line containing the complex number z. Note: complex() function can be used in python to convert the input as a complex number.\n",
    "\n",
    "**Constraints**\n",
    "\n",
    "Given number is a valid complex number\n",
    "\n",
    "**Output Format**\n",
    "\n",
    "Output two lines:\n",
    "\n",
    "The first line should contain the value of r.\n",
    "\n",
    "The second line should contain the value of φ."
   ]
  },
  {
   "cell_type": "code",
   "execution_count": 1,
   "metadata": {},
   "outputs": [
    {
     "name": "stdout",
     "output_type": "stream",
     "text": [
      "2.23606797749979\n",
      "1.1071487177940904\n"
     ]
    }
   ],
   "source": [
    "# Enter your code here. Read input from STDIN. Print output to STDOUT\n",
    "import cmath as m\n",
    "\n",
    "z = complex(input())\n",
    "r = abs(z)\n",
    "fase = m.phase(z)\n",
    "print(r)\n",
    "print(fase)\n"
   ]
  },
  {
   "cell_type": "markdown",
   "metadata": {},
   "source": [
    "## 2. Mod Divmod"
   ]
  },
  {
   "cell_type": "markdown",
   "metadata": {},
   "source": [
    "One of the built-in functions of Python is divmod, which takes two arguments a and b and returns a tuple containing the quotient of a/b first and then the remainder a.\n",
    "\n",
    "For example:\n",
    "```\n",
    ">>> print divmod(177,10)\n",
    "(17, 7)\n",
    "```\n",
    "Here, the integer division is 177/10 => 17 and the modulo operator is 177%10 => 7.\n",
    "\n",
    "**Task**\n",
    "\n",
    "Read in two integers, a and b, and print three lines.\n",
    "The first line is the integer division  a//b (While using Python2 remember to import division from //\\__future__).\n",
    "\n",
    "The second line is the result of the modulo operator: a%b.\n",
    "\n",
    "The third line prints the divmod of a and b.\n",
    "\n",
    "**Input Format**\n",
    "\n",
    "The first line contains the first integer, a, and the second line contains the second integer, b.\n",
    "\n",
    "**Output Format**\n",
    "\n",
    "Print the result as described above."
   ]
  },
  {
   "cell_type": "code",
   "execution_count": 4,
   "metadata": {},
   "outputs": [
    {
     "name": "stdout",
     "output_type": "stream",
     "text": [
      "17\n",
      "7\n",
      "(17, 7)\n"
     ]
    }
   ],
   "source": [
    "# Enter your code here. Read input from STDIN. Print output to STDOUT\n",
    "a = int(input())\n",
    "b = int(input())\n",
    "\n",
    "print(a//b)\n",
    "print(a%b)\n",
    "print(divmod(a,b))\n"
   ]
  },
  {
   "cell_type": "markdown",
   "metadata": {},
   "source": [
    "## 3. Power - Mod Power"
   ]
  },
  {
   "cell_type": "markdown",
   "metadata": {},
   "source": [
    "So far, we have only heard of Python's powers. Now, we will witness them!\n",
    "\n",
    "Powers or exponents in Python can be calculated using the built-in power function. Call the power function a^b as shown below:\n",
    "```\n",
    ">>> pow(a,b) \n",
    "```\n",
    "or\n",
    "```\n",
    ">>> a**b\n",
    "```\n",
    "It's also possible to calculate a^b mod m.\n",
    "```\n",
    ">>> pow(a,b,m)  \n",
    "```\n",
    "This is very helpful in computations where you have to print the resultant % mod.\n",
    "\n",
    "**Note:** Here, a and b can be floats or negatives, but, if a third argument is present, b cannot be negative.\n",
    "\n",
    "**Note:** Python has a math module that has its own pow(). It takes two arguments and returns a float. It is uncommon to use math.pow().\n",
    "\n",
    "**Task**\n",
    "\n",
    "You are given three integers: a, b, and m. Print two lines.\n",
    "\n",
    "On the first line, print the result of pow(a,b). On the second line, print the result of pow(a,b,m).\n",
    "\n",
    "**Input Format**\n",
    "\n",
    "The first line contains a, the second line contains b, and the third line contains m.\n",
    "\n",
    "**Constraints**\n",
    "\n",
    "1 <= a <= 10\n",
    "\n",
    "1 <= b <= 10\n",
    "\n",
    "2 <= m <= 1000"
   ]
  },
  {
   "cell_type": "code",
   "execution_count": 5,
   "metadata": {},
   "outputs": [
    {
     "name": "stdout",
     "output_type": "stream",
     "text": [
      "81\n",
      "1\n"
     ]
    }
   ],
   "source": [
    "# Enter your code here. Read input from STDIN. Print output to STDOUT\n",
    "a = int(input())\n",
    "b= int(input())\n",
    "m = int(input())\n",
    "\n",
    "print(pow(a,b))\n",
    "print(pow(a,b,m))\n"
   ]
  },
  {
   "cell_type": "markdown",
   "metadata": {},
   "source": [
    "## 4. Integers Come In All Sizes"
   ]
  },
  {
   "cell_type": "markdown",
   "metadata": {},
   "source": [
    "Integers in Python can be as big as the bytes in your machine's memory. There is no limit in size as there is: 2^31 - 1 (c++ int) or 2^63 - 1 (C++ long long int).\n",
    "\n",
    "As we know, the result of  grows really fast with increasing b.\n",
    "\n",
    "Let's do some calculations on very large integers.\n",
    "\n",
    "**Task**\n",
    "\n",
    "Read four numbers, a, b, c, and d, and print the result of a^b + c^d.\n",
    "\n",
    "**Input Format**\n",
    "\n",
    "Integers a, b, c, and d  are given on four separate lines, respectively.\n",
    "\n",
    "**Constraints**\n",
    "\n",
    "1 <= a <= 10000\n",
    "\n",
    "1 <= b <= 10000\n",
    "\n",
    "1 <= c <= 10000\n",
    "\n",
    "1 <= d <= 10000\n",
    "\n",
    "**Output Format**\n",
    "\n",
    "Print the result of a^b + c^d on one line."
   ]
  },
  {
   "cell_type": "code",
   "execution_count": 6,
   "metadata": {},
   "outputs": [
    {
     "name": "stdout",
     "output_type": "stream",
     "text": [
      "4710194409608608369201743232\n"
     ]
    }
   ],
   "source": [
    "# Enter your code here. Read input from STDIN. Print output to STDOUT\n",
    "a = int(input())\n",
    "b = int(input())\n",
    "c = int(input())\n",
    "d = int(input())\n",
    "\n",
    "print(a**b + c**d)\n"
   ]
  },
  {
   "cell_type": "markdown",
   "metadata": {},
   "source": [
    "## 5. Find Angle MBC"
   ]
  },
  {
   "attachments": {
    "image-2.png": {
     "image/png": "[encoded data removed]"
    },
    "image-3.png": {
     "image/png": "[encoded data removed]"
    },
    "image-4.png": {
     "image/png": "[encoded data removed]"
    },
    "image-5.png": {
     "image/png": "[encoded data removed]"
    },
    "image.png": {
     "image/png": "[encoded data removed]"
    }
   },
   "cell_type": "markdown",
   "metadata": {},
   "source": [
    "![image.png](attachment:image.png)\n",
    "ABC is a right triangle, 90° at B.\n",
    "Therefore, ![image-2.png](attachment:image-2.png).\n",
    "\n",
    "Point M is the midpoint of hypotenuse AC.\n",
    "\n",
    "You are given the lengths AB and BC.\n",
    "Your task is to find ![image-3.png](attachment:image-3.png) (angle , Θ° as shown in the figure) in degrees.\n",
    "\n",
    "**Input Format**\n",
    "\n",
    "The first line contains the length of side AB.\n",
    "\n",
    "The second line contains the length of side BC.\n",
    "\n",
    "**Constraints**\n",
    "\n",
    "- 0 <= AB <= 100\n",
    "- 0 <= BC <= 100\n",
    "- Lengths  and  are natural numbers.\n",
    "\n",
    "**Output Format**\n",
    "\n",
    "Output ![image-4.png](attachment:image-4.png) in degrees.\n",
    "\n",
    "**Note:** Round the angle to the nearest integer.\n",
    "\n",
    "**Examples:**\n",
    "\n",
    "If angle is 56.5000001°, then output 57°.\n",
    "\n",
    "If angle is 56.5000000°, then output 57°.\n",
    "\n",
    "If angle is 56.4999999°, then output 56°.\n",
    "\n",
    "![image-5.png](attachment:image-5.png)\n"
   ]
  },
  {
   "cell_type": "code",
   "execution_count": 7,
   "metadata": {},
   "outputs": [
    {
     "name": "stdout",
     "output_type": "stream",
     "text": [
      "45°\n"
     ]
    }
   ],
   "source": [
    "# Enter your code here. Read input from STDIN. Print output to STDOUT\n",
    "import math as m\n",
    "\n",
    "AB = int(input())\n",
    "BC = int(input())\n",
    "\n",
    "m = m.degrees(m.atan(AB/BC))\n",
    "m = round(m)\n",
    "\n",
    "print(f\"{m}\\u00b0\")\n"
   ]
  },
  {
   "cell_type": "markdown",
   "metadata": {},
   "source": [
    "## 6. Triangle Quest"
   ]
  },
  {
   "cell_type": "markdown",
   "metadata": {},
   "source": [
    "You are given a positive integer . Print a numerical triangle of height  like the one below:\n",
    "```\n",
    "1\n",
    "22\n",
    "333\n",
    "4444\n",
    "55555\n",
    "......\n",
    "```\n",
    "Can you do it using only **arithmetic operations, a single for loop and print statement?**\n",
    "\n",
    "Use no more than two lines. The first line (the for statement) is already written for you. You have to complete the print statement.\n",
    "\n",
    "**Note:** Using anything related to strings will give a score of 0.\n",
    "\n",
    "**Input Format**\n",
    "\n",
    "A single line containing integer, N.\n",
    "\n",
    "**Constraints**\n",
    "\n",
    "1<= N <= 9\n",
    "\n",
    "**Output Format**\n",
    "\n",
    "Print N-1 lines as explained above.\n",
    "\n",
    "Sample Input"
   ]
  },
  {
   "cell_type": "code",
   "execution_count": 10,
   "metadata": {},
   "outputs": [
    {
     "name": "stdout",
     "output_type": "stream",
     "text": [
      "1\n",
      "22\n",
      "333\n",
      "4444\n",
      "55555\n",
      "666666\n",
      "7777777\n",
      "88888888\n",
      "999999999\n"
     ]
    }
   ],
   "source": [
    "for i in range(1,int(input())):\n",
    "    print(i*(10**i - 1)//9)"
   ]
  },
  {
   "cell_type": "markdown",
   "metadata": {},
   "source": [
    "## 7. Triangle Quest 2"
   ]
  },
  {
   "cell_type": "markdown",
   "metadata": {},
   "source": [
    "You are given a positive integer N.\n",
    "\n",
    "Your task is to print a palindromic triangle of size N.\n",
    "\n",
    "For example, a palindromic triangle of size 5 is:\n",
    "```\n",
    "1\n",
    "121\n",
    "12321\n",
    "1234321\n",
    "123454321\n",
    "```\n",
    "You can't take more than two lines. The first line (a for-statement) is already written for you.\n",
    "\n",
    "You have to complete the code using exactly one print statement.\n",
    "\n",
    "**Note:**\n",
    "\n",
    "Using anything related to strings will give a score of 0.\n",
    "\n",
    "Using more than one for-statement will give a score of 0.\n",
    "\n",
    "**Input Format**\n",
    "\n",
    "A single line of input containing the integer N.\n",
    "\n",
    "**Constraints**\n",
    "\n",
    "- 0 < N < 10\n",
    "\n",
    "**Output Format**\n",
    "\n",
    "Print the palindromic triangle of size N as explained above."
   ]
  },
  {
   "cell_type": "code",
   "execution_count": 8,
   "metadata": {},
   "outputs": [
    {
     "name": "stdout",
     "output_type": "stream",
     "text": [
      "1\n",
      "121\n",
      "12321\n",
      "1234321\n",
      "123454321\n",
      "12345654321\n",
      "1234567654321\n",
      "123456787654321\n",
      "12345678987654321\n",
      "1234567900987654321\n"
     ]
    }
   ],
   "source": [
    "for i in range(1,int(input())+1):\n",
    "    print(((10**i)-1)*((10**i)-1)//81)"
   ]
  }
 ],
 "metadata": {
  "kernelspec": {
   "display_name": "Python 3",
   "language": "python",
   "name": "python3"
  },
  "language_info": {
   "codemirror_mode": {
    "name": "ipython",
    "version": 3
   },
   "file_extension": ".py",
   "mimetype": "text/x-python",
   "name": "python",
   "nbconvert_exporter": "python",
   "pygments_lexer": "ipython3",
   "version": "3.12.1"
  }
 },
 "nbformat": 4,
 "nbformat_minor": 2
}
