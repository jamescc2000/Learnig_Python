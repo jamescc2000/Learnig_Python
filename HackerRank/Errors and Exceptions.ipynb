{
 "cells": [
  {
   "cell_type": "markdown",
   "metadata": {},
   "source": [
    "# Errors and Exceptions"
   ]
  },
  {
   "cell_type": "markdown",
   "metadata": {},
   "source": [
    "## 1. Exceptions"
   ]
  },
  {
   "cell_type": "markdown",
   "metadata": {},
   "source": [
    "**Exceptions**\n",
    "Errors detected during execution are called exceptions.\n",
    "\n",
    "**Examples:**\n",
    "\n",
    "**ZeroDivisionError**\n",
    "\n",
    "This error is raised when the second argument of a division or modulo operation is zero.\n",
    "\n",
    "```>>> a = '1'\n",
    ">>> b = '0'\n",
    ">>> print int(a) / int(b)\n",
    ">>> ZeroDivisionError: integer division or modulo by zero\n",
    "```\n",
    "**ValueError**\n",
    "\n",
    "This error is raised when a built-in operation or function receives an argument that has the right type but an inappropriate value.\n",
    "```\n",
    ">>> a = '1'\n",
    ">>> b = '#'\n",
    ">>> print int(a) / int(b)\n",
    ">>> ValueError: invalid literal for int() with base 10: '#'\n",
    "```\n",
    "\n",
    "**Handling Exceptions**\n",
    "\n",
    "The statements try and except can be used to handle selected exceptions. A try statement may have more than one except clause to specify handlers for different exceptions.\n",
    "```\n",
    "#Code\n",
    "try:\n",
    "    print 1/0\n",
    "except ZeroDivisionError as e:\n",
    "    print \"Error Code:\",e\n",
    "```\n",
    "\n",
    "**Output**\n",
    "\n",
    "Error Code: integer division or modulo by zero\n",
    "\n",
    "**Task**\n",
    "\n",
    "You are given two values a and b.\n",
    "Perform integer division and print a/b.\n",
    "\n",
    "**Input Format**\n",
    "\n",
    "The first line contains T, the number of test cases.\n",
    "The next T lines each contain the space separated values of a and b.\n",
    "\n",
    "**Constraints**\n",
    "\n",
    "0 < T < 10\n",
    "\n",
    "**Output Format**\n",
    "\n",
    "Print the value of a/b.\n",
    "In the case of ZeroDivisionError or ValueError, print the error code."
   ]
  },
  {
   "cell_type": "code",
   "execution_count": 1,
   "metadata": {},
   "outputs": [
    {
     "name": "stdout",
     "output_type": "stream",
     "text": [
      "Error Code: integer division or modulo by zero\n",
      "Error Code: invalid literal for int() with base 10: '#'\n",
      "3\n"
     ]
    }
   ],
   "source": [
    "n = input()\n",
    "list_numbers = []\n",
    "\n",
    "for i in  range(int(n)):\n",
    "    numbers = input().split()\n",
    "    list_numbers.append(numbers)\n",
    "\n",
    "\n",
    "for a, b in list_numbers:\n",
    "    try:\n",
    "        a = int(a)\n",
    "        b = int(b)\n",
    "        suma = a // b\n",
    "        print(suma)\n",
    "    except ZeroDivisionError as e:\n",
    "        print (\"Error Code:\",e)\n",
    "    \n",
    "    except ValueError as e:\n",
    "        print (\"Error Code:\",e)"
   ]
  },
  {
   "cell_type": "markdown",
   "metadata": {},
   "source": [
    "## 2. Incorrect Regex"
   ]
  },
  {
   "cell_type": "markdown",
   "metadata": {},
   "source": [
    "You are given a string S.\n",
    "\n",
    "Your task is to find out whether S is a valid regex or not.\n",
    "\n",
    "**Input Format**\n",
    "\n",
    "The first line contains integer T, the number of test cases.\n",
    "\n",
    "The next T lines contains the string S.\n",
    "\n",
    "**Constraints**\n",
    "\n",
    "0 < T < 100\n",
    "\n",
    "**Output Format**\n",
    "\n",
    "Print \"True\" or \"False\" for each test case without quotes."
   ]
  },
  {
   "cell_type": "code",
   "execution_count": 2,
   "metadata": {},
   "outputs": [
    {
     "name": "stdout",
     "output_type": "stream",
     "text": [
      "True\n",
      "True\n"
     ]
    }
   ],
   "source": [
    "import re\n",
    "\n",
    "n = int(input())\n",
    "list_strings = []\n",
    "for i in range(n):\n",
    "    list_strings.append(input())\n",
    "    \n",
    "for string in list_strings:\n",
    "    try:\n",
    "        s = re.compile(string)\n",
    "        print('True')\n",
    "    except re.error:\n",
    "        print('False')"
   ]
  }
 ],
 "metadata": {
  "kernelspec": {
   "display_name": "Python 3",
   "language": "python",
   "name": "python3"
  },
  "language_info": {
   "codemirror_mode": {
    "name": "ipython",
    "version": 3
   },
   "file_extension": ".py",
   "mimetype": "text/x-python",
   "name": "python",
   "nbconvert_exporter": "python",
   "pygments_lexer": "ipython3",
   "version": "3.12.1"
  }
 },
 "nbformat": 4,
 "nbformat_minor": 2
}
