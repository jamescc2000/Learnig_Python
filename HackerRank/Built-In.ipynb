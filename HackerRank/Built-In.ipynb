{
 "cells": [
  {
   "cell_type": "markdown",
   "metadata": {},
   "source": [
    "# Built-Ins"
   ]
  },
  {
   "cell_type": "markdown",
   "metadata": {},
   "source": [
    "## 1. Python Evaluation"
   ]
  },
  {
   "cell_type": "markdown",
   "metadata": {},
   "source": [
    "**input()**\n",
    "\n",
    "In **Python 2**, the expression input() is equivalent to eval(raw _input(prompt)).\n",
    "\n",
    "Code\n",
    "```\n",
    ">>> input()  \n",
    "1+2\n",
    "3\n",
    ">>> company = 'HackerRank'\n",
    ">>> website = 'www.hackerrank.com'\n",
    ">>> input()\n",
    "'The company name: '+company+' and website: '+website\n",
    "'The company name: HackerRank and website: www.hackerrank.com'\n",
    "```\n",
    "**Task**\n",
    "\n",
    "You are given a polynomial P of a single indeterminate (or variable), x.\n",
    "\n",
    "You are also given the values of x and k. Your task is to verify if P(x) = k.\n",
    "\n",
    "**Constraints**\n",
    "\n",
    "All coefficients of polynomial P are integers.\n",
    "\n",
    "x and y are also integers.\n",
    "\n",
    "**Input Format**\n",
    "\n",
    "The first line contains the space separated values of x and k.\n",
    "The second line contains the polynomial P.\n",
    "\n",
    "**Output Format**\n",
    "\n",
    "Print True if P(x) = k. Otherwise, print False.\n",
    "\n",
    "Sample Input"
   ]
  },
  {
   "cell_type": "code",
   "execution_count": 16,
   "metadata": {},
   "outputs": [
    {
     "name": "stdout",
     "output_type": "stream",
     "text": [
      "5\n"
     ]
    }
   ],
   "source": [
    "exp = input()\n",
    "eval(exp)"
   ]
  },
  {
   "cell_type": "markdown",
   "metadata": {},
   "source": [
    "## 2. Input()"
   ]
  },
  {
   "cell_type": "code",
   "execution_count": 15,
   "metadata": {},
   "outputs": [
    {
     "name": "stdout",
     "output_type": "stream",
     "text": [
      "4\n"
     ]
    }
   ],
   "source": [
    "x, k = map(int, input().split())\n",
    "\n",
    "P = input()\n",
    "\n",
    "if eval(P) == k:\n",
    "    print('True')\n",
    "else:\n",
    "    print('False')\n"
   ]
  },
  {
   "cell_type": "markdown",
   "metadata": {},
   "source": [
    "The eval() expression is a very powerful built-in function of Python. It helps in evaluating an expression. The expression can be a Python statement, or a code object.\n",
    "\n",
    "For example:\n",
    "```\n",
    ">>> eval(\"9 + 5\")\n",
    "14\n",
    ">>> x = 2\n",
    ">>> eval(\"x + 3\")\n",
    "5\n",
    "```\n",
    "Here, eval() can also be used to work with Python keywords or defined functions and variables. These would normally be stored as strings.\n",
    "\n",
    "For example:\n",
    "```\n",
    ">>> type(eval(\"len\"))\n",
    "<type 'builtin_function_or_method'>\n",
    "```\n",
    "Without eval()\n",
    "```\n",
    ">>> type(\"len\")\n",
    "<type 'str'>\n",
    "```\n",
    "\n",
    "**Task**\n",
    "\n",
    "You are given an expression in a line. Read that line as a string variable, such as var, and print the result using eval(var).\n",
    "\n",
    "**NOTE:** Python2 users, please import from \\__future__ import print_function.\n",
    "\n",
    "**Constraint**\n",
    "\n",
    "Input string is less than 100 characters."
   ]
  },
  {
   "cell_type": "markdown",
   "metadata": {},
   "source": [
    "## 3. Zipped!"
   ]
  },
  {
   "attachments": {
    "image.png": {
     "image/png": "[encoded data removed]"
    }
   },
   "cell_type": "markdown",
   "metadata": {},
   "source": [
    "**zip([iterable, ...])**\n",
    "\n",
    "This function returns a list of tuples. The ith tuple contains the th element from each of the argument sequences or iterables.\n",
    "\n",
    "If the argument sequences are of unequal lengths, then the returned list is truncated to the length of the shortest argument sequence.\n",
    "\n",
    "**Sample Code**\n",
    "```\n",
    ">>> print zip([1,2,3,4,5,6],'Hacker')\n",
    "[(1, 'H'), (2, 'a'), (3, 'c'), (4, 'k'), (5, 'e'), (6, 'r')]\n",
    ">>> \n",
    ">>> print zip([1,2,3,4,5,6],[0,9,8,7,6,5,4,3,2,1])\n",
    "[(1, 0), (2, 9), (3, 8), (4, 7), (5, 6), (6, 5)]\n",
    ">>> \n",
    ">>> A = [1,2,3]\n",
    ">>> B = [6,5,4]\n",
    ">>> C = [7,8,9]\n",
    ">>> X = [A] + [B] + [C]\n",
    ">>> \n",
    ">>> print zip(*X)\n",
    "[(1, 6, 7), (2, 5, 8), (3, 4, 9)]\n",
    "```\n",
    "\n",
    "**Task**\n",
    "\n",
    "The National University conducts an examination of N students in X subjects.\n",
    "Your task is to compute the average scores of each student.\n",
    "\n",
    "![image.png](attachment:image.png)\n",
    "\n",
    "The format for the general mark sheet is:\n",
    "```\n",
    "Student ID → ___1_____2_____3_____4_____5__               \n",
    "Subject 1   |  89    90    78    93    80\n",
    "Subject 2   |  90    91    85    88    86  \n",
    "Subject 3   |  91    92    83    89    90.5\n",
    "            |______________________________\n",
    "Average        90    91    82    90    85.5 \n",
    "```\n",
    "\n",
    "**Input Format**\n",
    "\n",
    "The first line contains N and X separated by a space.\n",
    "\n",
    "The next X lines contains the space separated marks obtained by students in a particular subject.\n",
    "\n",
    "**Constraints**\n",
    "0 < N <= 100\n",
    "0 < X <= 100\n",
    "\n",
    "**Output Format**\n",
    "\n",
    "Print the averages of all students on separate lines.\n",
    "\n",
    "The averages must be correct up to 1 decimal place."
   ]
  },
  {
   "cell_type": "code",
   "execution_count": 18,
   "metadata": {},
   "outputs": [
    {
     "name": "stdout",
     "output_type": "stream",
     "text": [
      "90.0\n",
      "91.0\n",
      "82.0\n",
      "90.0\n",
      "85.5\n"
     ]
    }
   ],
   "source": [
    "N, X = map(int, input().split())\n",
    "\n",
    "list_marks = []\n",
    "\n",
    "for i in range(X):\n",
    "    marks = list(map(float, input().split()))\n",
    "    list_marks.append(marks)\n",
    "    \n",
    "\n",
    "student_marks = list(zip(*list_marks))\n",
    "\n",
    "\n",
    "for mark in student_marks:\n",
    "    print(sum(mark)/X)  \n",
    "            "
   ]
  },
  {
   "cell_type": "markdown",
   "metadata": {},
   "source": [
    "## 4. Any or All"
   ]
  },
  {
   "cell_type": "markdown",
   "metadata": {},
   "source": [
    "**any()**\n",
    "\n",
    "This expression returns True if any element of the iterable is true.\n",
    "\n",
    "If the iterable is empty, it will return False.\n",
    "\n",
    "**Code**\n",
    "```\n",
    ">>> any([1>0,1==0,1<0])\n",
    "True\n",
    ">>> any([1<0,2<1,3<2])\n",
    "False\n",
    "```\n",
    "**all()**\n",
    "\n",
    "This expression returns True if all of the elements of the iterable are true. If the iterable is empty, it will return True.\n",
    "\n",
    "```\n",
    "Code\n",
    "\n",
    ">>> all(['a'<'b','b'<'c'])\n",
    "True\n",
    ">>> all(['a'<'b','c'<'b'])\n",
    "False\n",
    "```\n",
    "**Task**\n",
    "\n",
    "You are given a space separated list of integers. If all the integers are positive, then you need to check if any integer is a palindromic integer.\n",
    "\n",
    "**Input Format**\n",
    "\n",
    "The first line contains an integer N. N is the total number of integers in the list.\n",
    "The second line contains the space separated list of N integers.\n",
    "\n",
    "**Constraints**\n",
    "\n",
    "0 < N < 100\n",
    "\n",
    "**Output Format**\n",
    "\n",
    "Print True if all the conditions of the problem statement are satisfied. Otherwise, print False."
   ]
  },
  {
   "cell_type": "code",
   "execution_count": 24,
   "metadata": {},
   "outputs": [
    {
     "name": "stdout",
     "output_type": "stream",
     "text": [
      "True\n"
     ]
    }
   ],
   "source": [
    "N = int(input())\n",
    "list_numbers = list(map(int, input().split()))\n",
    "\n",
    "if all([x >= 0 for x in list_numbers]):\n",
    "    if any([(x % 11 == 0) or x <10 for x in list_numbers]):\n",
    "        print('True')\n",
    "    else:\n",
    "        print('False')\n",
    "else:\n",
    "    print('False')"
   ]
  },
  {
   "cell_type": "markdown",
   "metadata": {},
   "source": [
    "## 4."
   ]
  },
  {
   "attachments": {
    "image.png": {
     "image/png": "[encoded data removed]"
    }
   },
   "cell_type": "markdown",
   "metadata": {},
   "source": [
    "You are given a spreadsheet that contains a list of N athletes and their details (such as age, height, weight and so on). You are required to sort the data based on the Kth attribute and print the final resulting table. Follow the example given below for better understanding.\n",
    "\n",
    "![image.png](attachment:image.png)\n",
    "\n",
    "Note that K is indexed from 0 to M-1, where M is the number of attributes.\n",
    "\n",
    "**Note:** If two attributes are the same for different rows, for example, if two atheletes are of the same age, print the row that appeared first in the input.\n",
    "\n",
    "**Input Format**\n",
    "\n",
    "The first line contains N and M separated by a space.\n",
    "\n",
    "The next N lines each contain M elements.\n",
    "\n",
    "The last line contains K.\n",
    "\n",
    "**Constraints**\n",
    "\n",
    "1 <= N,M <= 100 \n",
    "\n",
    "0 <= K < N\n",
    "\n",
    "Each element <= 1000\n",
    "\n",
    "**Output Format**\n",
    "\n",
    "Print the N lines of the sorted table. Each line should contain the space separated elements. Check the sample below for clarity."
   ]
  },
  {
   "cell_type": "code",
   "execution_count": 25,
   "metadata": {},
   "outputs": [
    {
     "name": "stdout",
     "output_type": "stream",
     "text": [
      "7 1 0\n",
      "10 2 5\n",
      "6 5 9\n",
      "9 9 9\n",
      "1 23 12\n"
     ]
    }
   ],
   "source": [
    "if __name__ == '__main__':\n",
    "    n, m = input().split()\n",
    "\n",
    "    arr = []\n",
    "\n",
    "    for _ in range(int(n)):\n",
    "        arr.append(list(map(int, input().rstrip().split())))\n",
    "\n",
    "    k = int(input())\n",
    "\n",
    "arr.sort(key=lambda x: x[k])\n",
    "        \n",
    "for element in arr:\n",
    "    s = ' '.join(map(str, element))\n",
    "    print(s)"
   ]
  },
  {
   "cell_type": "markdown",
   "metadata": {},
   "source": [
    "## 5. ginortS"
   ]
  },
  {
   "cell_type": "markdown",
   "metadata": {},
   "source": [
    "You are given a string S.\n",
    "\n",
    "S contains alphanumeric characters only.\n",
    "\n",
    "Your task is to sort the string S in the following manner:\n",
    "\n",
    "- All sorted lowercase letters are ahead of uppercase letters.\n",
    "- All sorted uppercase letters are ahead of digits.\n",
    "- All sorted odd digits are ahead of sorted even digits.\n",
    "**Input Format**\n",
    "\n",
    "A single line of input contains the string S.\n",
    "\n",
    "**Constraints**\n",
    "\n",
    "- 0 < len(S) < 1000\n",
    "\n",
    "**Output Format**\n",
    "\n",
    "Output the sorted string S."
   ]
  },
  {
   "cell_type": "code",
   "execution_count": 63,
   "metadata": {},
   "outputs": [
    {
     "name": "stdout",
     "output_type": "stream",
     "text": [
      "ginortS1324\n"
     ]
    }
   ],
   "source": [
    "string = input()\n",
    "\n",
    "numbers = []\n",
    "chars = []\n",
    "\n",
    "for char in string:  \n",
    "    try:\n",
    "        char = int(char)\n",
    "        numbers.append(char)\n",
    "    except:\n",
    "        chars.append(char)\n",
    "\n",
    "\n",
    "\n",
    "chars.sort()\n",
    "numbers.sort()\n",
    "numbers.sort(key=lambda x: x%2, reverse=True)\n",
    "chars.sort(key=lambda x: x.isupper(), reverse=True)\n",
    "chars.sort(key=lambda x: x.islower(), reverse=True)\n",
    "\n",
    "string = ''.join(chars) + ''.join(map(str, numbers))\n",
    "\n",
    "print(string)"
   ]
  }
 ],
 "metadata": {
  "kernelspec": {
   "display_name": "Python 3",
   "language": "python",
   "name": "python3"
  },
  "language_info": {
   "codemirror_mode": {
    "name": "ipython",
    "version": 3
   },
   "file_extension": ".py",
   "mimetype": "text/x-python",
   "name": "python",
   "nbconvert_exporter": "python",
   "pygments_lexer": "ipython3",
   "version": "3.12.1"
  }
 },
 "nbformat": 4,
 "nbformat_minor": 2
}
