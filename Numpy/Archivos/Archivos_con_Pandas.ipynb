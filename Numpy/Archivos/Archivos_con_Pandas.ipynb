{
 "cells": [
  {
   "cell_type": "markdown",
   "metadata": {},
   "source": [
    "# PANDAS"
   ]
  },
  {
   "cell_type": "code",
   "execution_count": 40,
   "metadata": {},
   "outputs": [
    {
     "name": "stdout",
     "output_type": "stream",
     "text": [
      "    nombre   apellido  edad\n",
      "0    James  Contreras    23\n",
      "1  Juanito    Alimaña    45\n",
      "2    Pedro     Navaja    32\n",
      "3   Pancho      Lopez    52\n",
      "4    Pedro     Pascal    25\n",
      "5    Julio    Velarde    73\n"
     ]
    }
   ],
   "source": [
    "import pandas as pd\n",
    "\n",
    "df = pd.read_csv(\"datos.csv\")\n",
    "print(df)"
   ]
  },
  {
   "cell_type": "code",
   "execution_count": 41,
   "metadata": {},
   "outputs": [
    {
     "name": "stdout",
     "output_type": "stream",
     "text": [
      "0      James\n",
      "1    Juanito\n",
      "2      Pedro\n",
      "3     Pancho\n",
      "4      Pedro\n",
      "5      Julio\n",
      "Name: nombre, dtype: object\n"
     ]
    }
   ],
   "source": [
    "#Obteniendo los datos de la columna nombre\n",
    "print(df[\"nombre\"])"
   ]
  },
  {
   "cell_type": "code",
   "execution_count": 42,
   "metadata": {},
   "outputs": [
    {
     "name": "stdout",
     "output_type": "stream",
     "text": [
      "      name   lastname   age\n",
      "0   nombre   apellido  edad\n",
      "1    James  Contreras    23\n",
      "2  Juanito    Alimaña    45\n",
      "3    Pedro     Navaja    32\n",
      "4   Pancho      Lopez    52\n",
      "5    Pedro     Pascal    25\n",
      "6    Julio    Velarde    73\n"
     ]
    }
   ],
   "source": [
    "# Asignarle nombre a las columnas\n",
    "\n",
    "df = pd.read_csv(\"datos.csv\", names=[\"name\",\"lastname\", \"age\"])\n",
    "print(df)"
   ]
  },
  {
   "cell_type": "code",
   "execution_count": 43,
   "metadata": {},
   "outputs": [
    {
     "name": "stdout",
     "output_type": "stream",
     "text": [
      "    nombre   apellido  edad\n",
      "0    James  Contreras    23\n",
      "4    Pedro     Pascal    25\n",
      "2    Pedro     Navaja    32\n",
      "1  Juanito    Alimaña    45\n",
      "3   Pancho      Lopez    52\n",
      "5    Julio    Velarde    73\n"
     ]
    }
   ],
   "source": [
    "# Ordenando los datos por la edad en forma ascendente\n",
    "df = pd.read_csv(\"datos.csv\")\n",
    "df_ordernado = df.sort_values(\"edad\")\n",
    "print(df_ordernado)"
   ]
  },
  {
   "cell_type": "code",
   "execution_count": 44,
   "metadata": {},
   "outputs": [
    {
     "name": "stdout",
     "output_type": "stream",
     "text": [
      "    nombre   apellido  edad\n",
      "5    Julio    Velarde    73\n",
      "3   Pancho      Lopez    52\n",
      "1  Juanito    Alimaña    45\n",
      "2    Pedro     Navaja    32\n",
      "4    Pedro     Pascal    25\n",
      "0    James  Contreras    23\n"
     ]
    }
   ],
   "source": [
    "# Ordenando los datos por la edad en forma descendente\n",
    "df = pd.read_csv(\"datos.csv\")\n",
    "df_ordernado = df.sort_values(\"edad\", ascending=False)\n",
    "print(df_ordernado)"
   ]
  },
  {
   "cell_type": "code",
   "execution_count": 45,
   "metadata": {},
   "outputs": [
    {
     "name": "stdout",
     "output_type": "stream",
     "text": [
      "    nombre   apellido  edad\n",
      "0    James  Contreras    23\n",
      "1  Juanito    Alimaña    45\n",
      "2    Pedro     Navaja    32\n",
      "3   Pancho      Lopez    52\n",
      "4    Pedro     Pascal    25\n",
      "5    Julio    Velarde    73\n",
      "0    James  Contreras    23\n",
      "1  Juanito    Alimaña    45\n",
      "2    Pedro     Navaja    32\n",
      "3   Pancho      Lopez    52\n",
      "4    Pedro     Pascal    25\n",
      "5    Julio    Velarde    73\n"
     ]
    }
   ],
   "source": [
    "# Concatenando dataframes\n",
    "\n",
    "df1 = pd.read_csv(\"datos.csv\")\n",
    "df2 = pd.read_csv(\"datos.csv\")\n",
    "\n",
    "df_concatenado = pd.concat([df,df2])\n",
    "print(df_concatenado)"
   ]
  },
  {
   "cell_type": "code",
   "execution_count": 48,
   "metadata": {},
   "outputs": [
    {
     "name": "stdout",
     "output_type": "stream",
     "text": [
      "    nombre   apellido  edad\n",
      "0    James  Contreras    23\n",
      "1  Juanito    Alimaña    45\n",
      "2    Pedro     Navaja    32\n"
     ]
    }
   ],
   "source": [
    "# Mostrar las primeras n filas\n",
    "primeras_filas = df.head(3)\n",
    "\n",
    "print(primeras_filas)"
   ]
  },
  {
   "cell_type": "code",
   "execution_count": 49,
   "metadata": {},
   "outputs": [
    {
     "name": "stdout",
     "output_type": "stream",
     "text": [
      "   nombre apellido  edad\n",
      "3  Pancho    Lopez    52\n",
      "4   Pedro   Pascal    25\n",
      "5   Julio  Velarde    73\n"
     ]
    }
   ],
   "source": [
    "# Mostrar las ultimas n filas\n",
    "ultimas_filas = df.tail(3)\n",
    "\n",
    "print(ultimas_filas)"
   ]
  },
  {
   "cell_type": "code",
   "execution_count": 52,
   "metadata": {},
   "outputs": [
    {
     "name": "stdout",
     "output_type": "stream",
     "text": [
      "(6, 3)\n"
     ]
    }
   ],
   "source": [
    "# Mostrando la cantidad de filas y columnas\n",
    "# La funcion devuelve la tupla (filas, columnas)\n",
    "fila_columnas = df.shape\n",
    "\n",
    "print(fila_columnas)"
   ]
  },
  {
   "cell_type": "code",
   "execution_count": 53,
   "metadata": {},
   "outputs": [
    {
     "name": "stdout",
     "output_type": "stream",
     "text": [
      "            edad\n",
      "count   6.000000\n",
      "mean   41.666667\n",
      "std    19.075289\n",
      "min    23.000000\n",
      "25%    26.750000\n",
      "50%    38.500000\n",
      "75%    50.250000\n",
      "max    73.000000\n"
     ]
    }
   ],
   "source": [
    "# Obteniendo data estadistica del dataframe\n",
    "df_info = df.describe()\n",
    "\n",
    "print(df_info)"
   ]
  },
  {
   "cell_type": "markdown",
   "metadata": {},
   "source": [
    "# Accediento a un elemento especifico del dataframe"
   ]
  },
  {
   "cell_type": "code",
   "execution_count": 61,
   "metadata": {},
   "outputs": [
    {
     "name": "stdout",
     "output_type": "stream",
     "text": [
      "32\n"
     ]
    }
   ],
   "source": [
    "\n",
    "# La estructura de loc es la siguiente : .loc[fila,\"columna\"]\n",
    "elemento = df.loc[2, \"edad\"]\n",
    "print(elemento)\n"
   ]
  },
  {
   "cell_type": "code",
   "execution_count": 62,
   "metadata": {},
   "outputs": [
    {
     "name": "stdout",
     "output_type": "stream",
     "text": [
      "32\n"
     ]
    }
   ],
   "source": [
    "# La estructura de iloc es la siguiente : .iloc[indice_fila,indice_columna]\n",
    "elemento = df.iloc[2, 2] \n",
    "print(elemento)\n"
   ]
  },
  {
   "cell_type": "code",
   "execution_count": 63,
   "metadata": {},
   "outputs": [
    {
     "name": "stdout",
     "output_type": "stream",
     "text": [
      "0      James\n",
      "1    Juanito\n",
      "2      Pedro\n",
      "3     Pancho\n",
      "4      Pedro\n",
      "5      Julio\n",
      "Name: nombre, dtype: object\n"
     ]
    }
   ],
   "source": [
    "# Mostrando todos los registros de una columna\n",
    "elemento = df.loc[:, \"nombre\"]\n",
    "print(elemento)"
   ]
  },
  {
   "cell_type": "code",
   "execution_count": 64,
   "metadata": {},
   "outputs": [
    {
     "name": "stdout",
     "output_type": "stream",
     "text": [
      "nombre       Pedro\n",
      "apellido    Navaja\n",
      "edad            32\n",
      "Name: 2, dtype: object\n"
     ]
    }
   ],
   "source": [
    "# Mostrando todos los campos de una fila\n",
    "elemento = df.loc[2, :]\n",
    "print(elemento)"
   ]
  },
  {
   "cell_type": "code",
   "execution_count": 66,
   "metadata": {},
   "outputs": [
    {
     "name": "stdout",
     "output_type": "stream",
     "text": [
      "    nombre apellido  edad\n",
      "1  Juanito  Alimaña    45\n",
      "2    Pedro   Navaja    32\n",
      "3   Pancho    Lopez    52\n",
      "5    Julio  Velarde    73\n"
     ]
    }
   ],
   "source": [
    "# Mostrando todos los registros que cumplan una condicion\n",
    "condicion = df.loc[df[\"edad\"] >30, :]\n",
    "\n",
    "print(condicion)"
   ]
  }
 ],
 "metadata": {
  "kernelspec": {
   "display_name": "Python 3",
   "language": "python",
   "name": "python3"
  },
  "language_info": {
   "codemirror_mode": {
    "name": "ipython",
    "version": 3
   },
   "file_extension": ".py",
   "mimetype": "text/x-python",
   "name": "python",
   "nbconvert_exporter": "python",
   "pygments_lexer": "ipython3",
   "version": "3.12.1"
  }
 },
 "nbformat": 4,
 "nbformat_minor": 2
}
